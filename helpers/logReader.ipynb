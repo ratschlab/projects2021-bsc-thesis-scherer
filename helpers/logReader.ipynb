{
 "cells": [
  {
   "cell_type": "code",
   "execution_count": 14,
   "id": "imposed-nutrition",
   "metadata": {
    "scrolled": false
   },
   "outputs": [],
   "source": [
    "\n",
    "file1 = open('output.log', 'r')\n",
    "Lines = file1.readlines()\n",
    " \n",
    "count = 0\n",
    "\n",
    "estimatorErrors = []\n",
    "\n",
    "for line in Lines:\n",
    "    estimatorErrors.append(int(line[32:-11]))"
   ]
  },
  {
   "cell_type": "code",
   "execution_count": null,
   "id": "norman-relay",
   "metadata": {},
   "outputs": [],
   "source": []
  }
 ],
 "metadata": {
  "kernelspec": {
   "display_name": "Python 3",
   "language": "python",
   "name": "python3"
  },
  "language_info": {
   "codemirror_mode": {
    "name": "ipython",
    "version": 3
   },
   "file_extension": ".py",
   "mimetype": "text/x-python",
   "name": "python",
   "nbconvert_exporter": "python",
   "pygments_lexer": "ipython3",
   "version": "3.9.2"
  }
 },
 "nbformat": 4,
 "nbformat_minor": 5
}
