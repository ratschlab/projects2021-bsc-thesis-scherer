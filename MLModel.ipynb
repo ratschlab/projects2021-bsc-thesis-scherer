{
 "cells": [
  {
   "cell_type": "code",
   "execution_count": 1,
   "id": "prime-laundry",
   "metadata": {},
   "outputs": [
    {
     "data": {
      "text/html": [
       "<div>\n",
       "<style scoped>\n",
       "    .dataframe tbody tr th:only-of-type {\n",
       "        vertical-align: middle;\n",
       "    }\n",
       "\n",
       "    .dataframe tbody tr th {\n",
       "        vertical-align: top;\n",
       "    }\n",
       "\n",
       "    .dataframe thead th {\n",
       "        text-align: right;\n",
       "    }\n",
       "</style>\n",
       "<table border=\"1\" class=\"dataframe\">\n",
       "  <thead>\n",
       "    <tr style=\"text-align: right;\">\n",
       "      <th></th>\n",
       "      <th>hosp_inz_entries</th>\n",
       "      <th>death_inz_entries</th>\n",
       "      <th>testPositvity</th>\n",
       "      <th>googleMobility</th>\n",
       "    </tr>\n",
       "  </thead>\n",
       "  <tbody>\n",
       "    <tr>\n",
       "      <th>0</th>\n",
       "      <td>0.021429</td>\n",
       "      <td>0.000000</td>\n",
       "      <td>0.014211</td>\n",
       "      <td>5.690476</td>\n",
       "    </tr>\n",
       "    <tr>\n",
       "      <th>1</th>\n",
       "      <td>0.062857</td>\n",
       "      <td>0.000000</td>\n",
       "      <td>0.032002</td>\n",
       "      <td>3.857143</td>\n",
       "    </tr>\n",
       "    <tr>\n",
       "      <th>2</th>\n",
       "      <td>0.062857</td>\n",
       "      <td>0.000000</td>\n",
       "      <td>0.044182</td>\n",
       "      <td>3.714286</td>\n",
       "    </tr>\n",
       "    <tr>\n",
       "      <th>3</th>\n",
       "      <td>0.104286</td>\n",
       "      <td>0.000000</td>\n",
       "      <td>0.048949</td>\n",
       "      <td>1.619048</td>\n",
       "    </tr>\n",
       "    <tr>\n",
       "      <th>4</th>\n",
       "      <td>0.104286</td>\n",
       "      <td>0.000000</td>\n",
       "      <td>0.037903</td>\n",
       "      <td>2.142857</td>\n",
       "    </tr>\n",
       "    <tr>\n",
       "      <th>...</th>\n",
       "      <td>...</td>\n",
       "      <td>...</td>\n",
       "      <td>...</td>\n",
       "      <td>...</td>\n",
       "    </tr>\n",
       "    <tr>\n",
       "      <th>9264</th>\n",
       "      <td>0.768571</td>\n",
       "      <td>0.090000</td>\n",
       "      <td>0.046355</td>\n",
       "      <td>-22.166667</td>\n",
       "    </tr>\n",
       "    <tr>\n",
       "      <th>9265</th>\n",
       "      <td>0.667143</td>\n",
       "      <td>0.098571</td>\n",
       "      <td>0.046011</td>\n",
       "      <td>-22.166667</td>\n",
       "    </tr>\n",
       "    <tr>\n",
       "      <th>9266</th>\n",
       "      <td>0.611429</td>\n",
       "      <td>0.071429</td>\n",
       "      <td>0.045847</td>\n",
       "      <td>-22.166667</td>\n",
       "    </tr>\n",
       "    <tr>\n",
       "      <th>9267</th>\n",
       "      <td>0.564286</td>\n",
       "      <td>0.080000</td>\n",
       "      <td>0.044938</td>\n",
       "      <td>-22.166667</td>\n",
       "    </tr>\n",
       "    <tr>\n",
       "      <th>9268</th>\n",
       "      <td>0.508571</td>\n",
       "      <td>0.061429</td>\n",
       "      <td>0.042765</td>\n",
       "      <td>-22.166667</td>\n",
       "    </tr>\n",
       "  </tbody>\n",
       "</table>\n",
       "<p>9269 rows × 4 columns</p>\n",
       "</div>"
      ],
      "text/plain": [
       "      hosp_inz_entries  death_inz_entries  testPositvity  googleMobility\n",
       "0             0.021429           0.000000       0.014211        5.690476\n",
       "1             0.062857           0.000000       0.032002        3.857143\n",
       "2             0.062857           0.000000       0.044182        3.714286\n",
       "3             0.104286           0.000000       0.048949        1.619048\n",
       "4             0.104286           0.000000       0.037903        2.142857\n",
       "...                ...                ...            ...             ...\n",
       "9264          0.768571           0.090000       0.046355      -22.166667\n",
       "9265          0.667143           0.098571       0.046011      -22.166667\n",
       "9266          0.611429           0.071429       0.045847      -22.166667\n",
       "9267          0.564286           0.080000       0.044938      -22.166667\n",
       "9268          0.508571           0.061429       0.042765      -22.166667\n",
       "\n",
       "[9269 rows x 4 columns]"
      ]
     },
     "metadata": {},
     "output_type": "display_data"
    },
    {
     "data": {
      "text/plain": [
       "array([[0.00000000e+00, 0.00000000e+00, 2.08947313e-04, ...,\n",
       "        2.26361032e-01, 8.79343851e-02, 2.54783619e-01],\n",
       "       [0.00000000e+00, 0.00000000e+00, 2.78596418e-04, ...,\n",
       "        2.26361032e-01, 8.79343851e-02, 2.54783619e-01],\n",
       "       [0.00000000e+00, 0.00000000e+00, 3.48245522e-04, ...,\n",
       "        2.26361032e-01, 8.79343851e-02, 2.54783619e-01],\n",
       "       ...,\n",
       "       [4.95003152e-01, 2.17957897e-01, 1.03868240e-01, ...,\n",
       "        4.81375358e-01, 1.70477125e-01, 4.49779835e-01],\n",
       "       [4.94292062e-01, 2.18828778e-01, 1.05479079e-01, ...,\n",
       "        4.81375358e-01, 1.70477125e-01, 4.49779835e-01],\n",
       "       [4.88904114e-01, 2.18552749e-01, 1.06801199e-01, ...,\n",
       "        4.81375358e-01, 1.70477125e-01, 4.49779835e-01]])"
      ]
     },
     "metadata": {},
     "output_type": "display_data"
    }
   ],
   "source": [
    "import os\n",
    "import pandas as pd\n",
    "pd.options.display.max_rows = 10\n",
    "import matplotlib.pyplot as plt\n",
    "import numpy as np\n",
    "import datetime\n",
    "import time\n",
    "from datetime import timedelta\n",
    "from sklearn.pipeline import Pipeline\n",
    "from sklearn.ensemble import RandomForestRegressor\n",
    "from sklearn import linear_model\n",
    "from sklearn import svm\n",
    "from sklearn.model_selection import cross_validate\n",
    "from sklearn.model_selection import cross_val_score\n",
    "from sklearn.model_selection import GridSearchCV\n",
    "from sklearn.preprocessing import StandardScaler\n",
    "from sklearn.preprocessing import MinMaxScaler\n",
    "from sklearn.neural_network import MLPRegressor\n",
    "import lightgbm as lightgbm\n",
    "import xgboost as xgb\n",
    "\n",
    "start = time.time()\n",
    "train_features = pd.read_csv('train_features.csv')\n",
    "train_labels = pd.read_csv('train_labels.csv')\n",
    "test_features = pd.read_csv('test_features.csv')\n",
    "test_labels = pd.read_csv('test_labels.csv')\n",
    "\n",
    "#pip = Pipeline([('std_scaler', StandardScaler())])\n",
    "pip = Pipeline([('minmax_scaler', MinMaxScaler())])\n",
    "featureNames = train_features.columns\n",
    "train_features = pip.fit_transform(train_features)\n",
    "cv = 5\n",
    "\n",
    "display(train_labels)\n",
    "display(train_features)"
   ]
  },
  {
   "cell_type": "code",
   "execution_count": 2,
   "id": "olympic-coordination",
   "metadata": {},
   "outputs": [
    {
     "data": {
      "text/plain": [
       "'---SVR---hosp_inz_entries---'"
      ]
     },
     "metadata": {},
     "output_type": "display_data"
    },
    {
     "data": {
      "text/plain": [
       "SVR(C=0.1)"
      ]
     },
     "metadata": {},
     "output_type": "display_data"
    },
    {
     "data": {
      "text/plain": [
       "'Scores:[[0.05950023 0.07453651 0.06076929 0.09227579 0.05269996]]'"
      ]
     },
     "metadata": {},
     "output_type": "display_data"
    },
    {
     "data": {
      "text/plain": [
       "'Mean:0.06795635703952972'"
      ]
     },
     "metadata": {},
     "output_type": "display_data"
    },
    {
     "data": {
      "text/plain": [
       "'Standard deviation:0.014075872157579324'"
      ]
     },
     "metadata": {},
     "output_type": "display_data"
    },
    {
     "data": {
      "text/plain": [
       "'----------End of evaluating (2.3421764373779297)----------'"
      ]
     },
     "metadata": {},
     "output_type": "display_data"
    },
    {
     "data": {
      "text/plain": [
       "'---SVR---testPositvity---'"
      ]
     },
     "metadata": {},
     "output_type": "display_data"
    },
    {
     "data": {
      "text/plain": [
       "SVR(C=0.1)"
      ]
     },
     "metadata": {},
     "output_type": "display_data"
    },
    {
     "data": {
      "text/plain": [
       "'Scores:[[0.06172361 0.07271704 0.06764352 0.07351628 0.0693869 ]]'"
      ]
     },
     "metadata": {},
     "output_type": "display_data"
    },
    {
     "data": {
      "text/plain": [
       "'Mean:0.06899747058292817'"
      ]
     },
     "metadata": {},
     "output_type": "display_data"
    },
    {
     "data": {
      "text/plain": [
       "'Standard deviation:0.004222529714403477'"
      ]
     },
     "metadata": {},
     "output_type": "display_data"
    },
    {
     "data": {
      "text/plain": [
       "'----------End of evaluating (2.9889028072357178)----------'"
      ]
     },
     "metadata": {},
     "output_type": "display_data"
    },
    {
     "data": {
      "text/plain": [
       "'---SVR---googleMobility---'"
      ]
     },
     "metadata": {},
     "output_type": "display_data"
    },
    {
     "data": {
      "text/plain": [
       "SVR(C=0.1)"
      ]
     },
     "metadata": {},
     "output_type": "display_data"
    },
    {
     "data": {
      "text/plain": [
       "'Scores:[[0.05337536 0.10210794 0.07605816 0.07129309 0.05849141]]'"
      ]
     },
     "metadata": {},
     "output_type": "display_data"
    },
    {
     "data": {
      "text/plain": [
       "'Mean:0.07226518968557101'"
      ]
     },
     "metadata": {},
     "output_type": "display_data"
    },
    {
     "data": {
      "text/plain": [
       "'Standard deviation:0.01704385076094443'"
      ]
     },
     "metadata": {},
     "output_type": "display_data"
    },
    {
     "data": {
      "text/plain": [
       "'----------End of evaluating (2.13256573677063)----------'"
      ]
     },
     "metadata": {},
     "output_type": "display_data"
    },
    {
     "data": {
      "text/plain": [
       "'---SVR---death_inz_entries---'"
      ]
     },
     "metadata": {},
     "output_type": "display_data"
    },
    {
     "data": {
      "text/plain": [
       "SVR(C=0.1)"
      ]
     },
     "metadata": {},
     "output_type": "display_data"
    },
    {
     "data": {
      "text/plain": [
       "'Scores:[[0.06614339 0.08356044 0.05633843 0.06165636 0.06348308]]'"
      ]
     },
     "metadata": {},
     "output_type": "display_data"
    },
    {
     "data": {
      "text/plain": [
       "'Mean:0.06623634092697808'"
      ]
     },
     "metadata": {},
     "output_type": "display_data"
    },
    {
     "data": {
      "text/plain": [
       "'Standard deviation:0.009237515163533489'"
      ]
     },
     "metadata": {},
     "output_type": "display_data"
    },
    {
     "data": {
      "text/plain": [
       "'----------End of evaluating (1.6380016803741455)----------'"
      ]
     },
     "metadata": {},
     "output_type": "display_data"
    }
   ],
   "source": [
    "for label in ['hosp_inz_entries', 'testPositvity','googleMobility','death_inz_entries']:\n",
    "    tl = pip.fit_transform(train_labels[[label]]).ravel()\n",
    "\n",
    "    # SVR\n",
    "    display(\"---SVR---\"+label+\"---\")\n",
    "    start = time.time()\n",
    "    parameters = {'C':[0.1]}\n",
    "    reg = GridSearchCV(svm.SVR(), parameters, cv=cv, n_jobs=-1, scoring='neg_mean_squared_error')\n",
    "    reg.fit(train_features, tl)\n",
    "    display(reg.best_estimator_)\n",
    "    scores = pd.DataFrame(reg.cv_results_).loc[[reg.best_index_]][['split'+str(i)+'_test_score' for i in range(0,cv)]].values\n",
    "    scores = np.sqrt(-scores)\n",
    "    display(\"Scores:\"+str(scores))\n",
    "    display(\"Mean:\"+str(scores.mean()))\n",
    "    display(\"Standard deviation:\"+str(scores.std()))\n",
    "    display(\"----------End of evaluating (%s)----------\" % (time.time() - start))"
   ]
  },
  {
   "cell_type": "code",
   "execution_count": 3,
   "id": "brave-trout",
   "metadata": {},
   "outputs": [
    {
     "data": {
      "text/plain": [
       "'---Ridge---hosp_inz_entries---'"
      ]
     },
     "metadata": {},
     "output_type": "display_data"
    },
    {
     "data": {
      "text/plain": [
       "Ridge(alpha=0.1)"
      ]
     },
     "metadata": {},
     "output_type": "display_data"
    },
    {
     "data": {
      "text/plain": [
       "'Scores:[[0.03087904 0.03111692 0.02429828 0.03369723 0.02388065]]'"
      ]
     },
     "metadata": {},
     "output_type": "display_data"
    },
    {
     "data": {
      "text/plain": [
       "'Mean:0.028774421120265337'"
      ]
     },
     "metadata": {},
     "output_type": "display_data"
    },
    {
     "data": {
      "text/plain": [
       "'Standard deviation:0.003953115685576749'"
      ]
     },
     "metadata": {},
     "output_type": "display_data"
    },
    {
     "data": {
      "text/plain": [
       "'----------End of evaluating (0.45721888542175293)----------'"
      ]
     },
     "metadata": {},
     "output_type": "display_data"
    },
    {
     "data": {
      "text/plain": [
       "'---Ridge---testPositvity---'"
      ]
     },
     "metadata": {},
     "output_type": "display_data"
    },
    {
     "data": {
      "text/plain": [
       "Ridge(alpha=10)"
      ]
     },
     "metadata": {},
     "output_type": "display_data"
    },
    {
     "data": {
      "text/plain": [
       "'Scores:[[0.05122581 0.06538634 0.05215334 0.06226721 0.0530108 ]]'"
      ]
     },
     "metadata": {},
     "output_type": "display_data"
    },
    {
     "data": {
      "text/plain": [
       "'Mean:0.05680869896748535'"
      ]
     },
     "metadata": {},
     "output_type": "display_data"
    },
    {
     "data": {
      "text/plain": [
       "'Standard deviation:0.005841854076611009'"
      ]
     },
     "metadata": {},
     "output_type": "display_data"
    },
    {
     "data": {
      "text/plain": [
       "'----------End of evaluating (0.46454477310180664)----------'"
      ]
     },
     "metadata": {},
     "output_type": "display_data"
    },
    {
     "data": {
      "text/plain": [
       "'---Ridge---googleMobility---'"
      ]
     },
     "metadata": {},
     "output_type": "display_data"
    },
    {
     "data": {
      "text/plain": [
       "Ridge(alpha=10)"
      ]
     },
     "metadata": {},
     "output_type": "display_data"
    },
    {
     "data": {
      "text/plain": [
       "'Scores:[[0.04400149 0.05837004 0.06845443 0.05392839 0.05204721]]'"
      ]
     },
     "metadata": {},
     "output_type": "display_data"
    },
    {
     "data": {
      "text/plain": [
       "'Mean:0.05536031197876625'"
      ]
     },
     "metadata": {},
     "output_type": "display_data"
    },
    {
     "data": {
      "text/plain": [
       "'Standard deviation:0.008031987685909805'"
      ]
     },
     "metadata": {},
     "output_type": "display_data"
    },
    {
     "data": {
      "text/plain": [
       "'----------End of evaluating (0.47408103942871094)----------'"
      ]
     },
     "metadata": {},
     "output_type": "display_data"
    },
    {
     "data": {
      "text/plain": [
       "'---Ridge---death_inz_entries---'"
      ]
     },
     "metadata": {},
     "output_type": "display_data"
    },
    {
     "data": {
      "text/plain": [
       "Ridge(alpha=1)"
      ]
     },
     "metadata": {},
     "output_type": "display_data"
    },
    {
     "data": {
      "text/plain": [
       "'Scores:[[0.03310734 0.03277716 0.0242469  0.02284923 0.03004456]]'"
      ]
     },
     "metadata": {},
     "output_type": "display_data"
    },
    {
     "data": {
      "text/plain": [
       "'Mean:0.028605037642457958'"
      ]
     },
     "metadata": {},
     "output_type": "display_data"
    },
    {
     "data": {
      "text/plain": [
       "'Standard deviation:0.004286542956571969'"
      ]
     },
     "metadata": {},
     "output_type": "display_data"
    },
    {
     "data": {
      "text/plain": [
       "'----------End of evaluating (0.5124070644378662)----------'"
      ]
     },
     "metadata": {},
     "output_type": "display_data"
    }
   ],
   "source": [
    "for label in ['hosp_inz_entries', 'testPositvity','googleMobility','death_inz_entries']:\n",
    "    tl = pip.fit_transform(train_labels[[label]]).ravel()\n",
    "\n",
    "    # Ridge regression\n",
    "    display(\"---Ridge---\"+label+\"---\")\n",
    "    start = time.time()\n",
    "    parameters = {'alpha':[0.1, 1, 10]}\n",
    "    reg = GridSearchCV(linear_model.Ridge(), parameters, cv=cv, n_jobs=-1, scoring='neg_mean_squared_error')\n",
    "    reg.fit(train_features, tl)\n",
    "    display(reg.best_estimator_)\n",
    "    scores = pd.DataFrame(reg.cv_results_).loc[[reg.best_index_]][['split'+str(i)+'_test_score' for i in range(0,cv)]].values\n",
    "    scores = np.sqrt(-scores)\n",
    "    display(\"Scores:\"+str(scores))\n",
    "    display(\"Mean:\"+str(scores.mean()))\n",
    "    display(\"Standard deviation:\"+str(scores.std()))\n",
    "    #display(pd.DataFrame(reg.best_estimator_.coef_.transpose(), index=featureNames, columns=['importance']).sort_values(['importance'], ascending=False))\n",
    "    display(\"----------End of evaluating (%s)----------\" % (time.time() - start))"
   ]
  },
  {
   "cell_type": "code",
   "execution_count": 4,
   "id": "concrete-leone",
   "metadata": {
    "scrolled": false
   },
   "outputs": [
    {
     "data": {
      "text/plain": [
       "'---Lasso---hosp_inz_entries---'"
      ]
     },
     "metadata": {},
     "output_type": "display_data"
    },
    {
     "data": {
      "text/plain": [
       "Lasso(alpha=0.0001)"
      ]
     },
     "metadata": {},
     "output_type": "display_data"
    },
    {
     "data": {
      "text/plain": [
       "'Scores:[[0.02664086 0.02515486 0.02356835 0.02719636 0.01745393]]'"
      ]
     },
     "metadata": {},
     "output_type": "display_data"
    },
    {
     "data": {
      "text/plain": [
       "'Mean:0.024002871285291914'"
      ]
     },
     "metadata": {},
     "output_type": "display_data"
    },
    {
     "data": {
      "text/plain": [
       "'Standard deviation:0.0035088985543820232'"
      ]
     },
     "metadata": {},
     "output_type": "display_data"
    },
    {
     "data": {
      "text/html": [
       "<div>\n",
       "<style scoped>\n",
       "    .dataframe tbody tr th:only-of-type {\n",
       "        vertical-align: middle;\n",
       "    }\n",
       "\n",
       "    .dataframe tbody tr th {\n",
       "        vertical-align: top;\n",
       "    }\n",
       "\n",
       "    .dataframe thead th {\n",
       "        text-align: right;\n",
       "    }\n",
       "</style>\n",
       "<table border=\"1\" class=\"dataframe\">\n",
       "  <thead>\n",
       "    <tr style=\"text-align: right;\">\n",
       "      <th></th>\n",
       "      <th>coefficients</th>\n",
       "    </tr>\n",
       "  </thead>\n",
       "  <tbody>\n",
       "    <tr>\n",
       "      <th>Hosp inz_entries male</th>\n",
       "      <td>0.878691</td>\n",
       "    </tr>\n",
       "    <tr>\n",
       "      <th>Hosp inz_entries female</th>\n",
       "      <td>0.467740</td>\n",
       "    </tr>\n",
       "    <tr>\n",
       "      <th>Cases inz_entries male</th>\n",
       "      <td>0.033102</td>\n",
       "    </tr>\n",
       "    <tr>\n",
       "      <th>testPositvity</th>\n",
       "      <td>0.011553</td>\n",
       "    </tr>\n",
       "    <tr>\n",
       "      <th>Hosp inz_entries 80+</th>\n",
       "      <td>0.009223</td>\n",
       "    </tr>\n",
       "    <tr>\n",
       "      <th>...</th>\n",
       "      <td>...</td>\n",
       "    </tr>\n",
       "    <tr>\n",
       "      <th>Total_Covid19Patients_inz</th>\n",
       "      <td>-0.004772</td>\n",
       "    </tr>\n",
       "    <tr>\n",
       "      <th>Sport activities</th>\n",
       "      <td>-0.005283</td>\n",
       "    </tr>\n",
       "    <tr>\n",
       "      <th>Death inz_entries male</th>\n",
       "      <td>-0.013268</td>\n",
       "    </tr>\n",
       "    <tr>\n",
       "      <th>Gatherings/private events</th>\n",
       "      <td>-0.013417</td>\n",
       "    </tr>\n",
       "    <tr>\n",
       "      <th>hosp_inz_entries</th>\n",
       "      <td>-0.624384</td>\n",
       "    </tr>\n",
       "  </tbody>\n",
       "</table>\n",
       "<p>242 rows × 1 columns</p>\n",
       "</div>"
      ],
      "text/plain": [
       "                           coefficients\n",
       "Hosp inz_entries male          0.878691\n",
       "Hosp inz_entries female        0.467740\n",
       "Cases inz_entries male         0.033102\n",
       "testPositvity                  0.011553\n",
       "Hosp inz_entries 80+           0.009223\n",
       "...                                 ...\n",
       "Total_Covid19Patients_inz     -0.004772\n",
       "Sport activities              -0.005283\n",
       "Death inz_entries male        -0.013268\n",
       "Gatherings/private events     -0.013417\n",
       "hosp_inz_entries              -0.624384\n",
       "\n",
       "[242 rows x 1 columns]"
      ]
     },
     "metadata": {},
     "output_type": "display_data"
    },
    {
     "data": {
      "text/plain": [
       "'----------End of evaluating (5.46665358543396)----------'"
      ]
     },
     "metadata": {},
     "output_type": "display_data"
    },
    {
     "data": {
      "text/plain": [
       "'---Lasso---testPositvity---'"
      ]
     },
     "metadata": {},
     "output_type": "display_data"
    },
    {
     "data": {
      "text/plain": [
       "Lasso(alpha=0.0001)"
      ]
     },
     "metadata": {},
     "output_type": "display_data"
    },
    {
     "data": {
      "text/plain": [
       "'Scores:[[0.04800042 0.06145534 0.04946228 0.06223305 0.04990914]]'"
      ]
     },
     "metadata": {},
     "output_type": "display_data"
    },
    {
     "data": {
      "text/plain": [
       "'Mean:0.054212043898231234'"
      ]
     },
     "metadata": {},
     "output_type": "display_data"
    },
    {
     "data": {
      "text/plain": [
       "'Standard deviation:0.006268354338365659'"
      ]
     },
     "metadata": {},
     "output_type": "display_data"
    },
    {
     "data": {
      "text/html": [
       "<div>\n",
       "<style scoped>\n",
       "    .dataframe tbody tr th:only-of-type {\n",
       "        vertical-align: middle;\n",
       "    }\n",
       "\n",
       "    .dataframe tbody tr th {\n",
       "        vertical-align: top;\n",
       "    }\n",
       "\n",
       "    .dataframe thead th {\n",
       "        text-align: right;\n",
       "    }\n",
       "</style>\n",
       "<table border=\"1\" class=\"dataframe\">\n",
       "  <thead>\n",
       "    <tr style=\"text-align: right;\">\n",
       "      <th></th>\n",
       "      <th>coefficients</th>\n",
       "    </tr>\n",
       "  </thead>\n",
       "  <tbody>\n",
       "    <tr>\n",
       "      <th>testPositvity</th>\n",
       "      <td>0.433718</td>\n",
       "    </tr>\n",
       "    <tr>\n",
       "      <th>Cases inz_entries 20 - 29</th>\n",
       "      <td>0.227445</td>\n",
       "    </tr>\n",
       "    <tr>\n",
       "      <th>Cases inz_entries 50 - 59</th>\n",
       "      <td>0.215382</td>\n",
       "    </tr>\n",
       "    <tr>\n",
       "      <th>median_R_mean</th>\n",
       "      <td>0.204591</td>\n",
       "    </tr>\n",
       "    <tr>\n",
       "      <th>Cases inz_entries 70 - 79</th>\n",
       "      <td>0.138658</td>\n",
       "    </tr>\n",
       "    <tr>\n",
       "      <th>...</th>\n",
       "      <td>...</td>\n",
       "    </tr>\n",
       "    <tr>\n",
       "      <th>publicTransportationPercent</th>\n",
       "      <td>-0.036699</td>\n",
       "    </tr>\n",
       "    <tr>\n",
       "      <th>hosp_inz_entries</th>\n",
       "      <td>-0.054756</td>\n",
       "    </tr>\n",
       "    <tr>\n",
       "      <th>Gatherings/private events</th>\n",
       "      <td>-0.061703</td>\n",
       "    </tr>\n",
       "    <tr>\n",
       "      <th>R_error</th>\n",
       "      <td>-0.134632</td>\n",
       "    </tr>\n",
       "    <tr>\n",
       "      <th>case_inz_entries</th>\n",
       "      <td>-0.440407</td>\n",
       "    </tr>\n",
       "  </tbody>\n",
       "</table>\n",
       "<p>242 rows × 1 columns</p>\n",
       "</div>"
      ],
      "text/plain": [
       "                             coefficients\n",
       "testPositvity                    0.433718\n",
       "Cases inz_entries 20 - 29        0.227445\n",
       "Cases inz_entries 50 - 59        0.215382\n",
       "median_R_mean                    0.204591\n",
       "Cases inz_entries 70 - 79        0.138658\n",
       "...                                   ...\n",
       "publicTransportationPercent     -0.036699\n",
       "hosp_inz_entries                -0.054756\n",
       "Gatherings/private events       -0.061703\n",
       "R_error                         -0.134632\n",
       "case_inz_entries                -0.440407\n",
       "\n",
       "[242 rows x 1 columns]"
      ]
     },
     "metadata": {},
     "output_type": "display_data"
    },
    {
     "data": {
      "text/plain": [
       "'----------End of evaluating (5.978133678436279)----------'"
      ]
     },
     "metadata": {},
     "output_type": "display_data"
    },
    {
     "data": {
      "text/plain": [
       "'---Lasso---googleMobility---'"
      ]
     },
     "metadata": {},
     "output_type": "display_data"
    },
    {
     "data": {
      "text/plain": [
       "Lasso(alpha=0.0001)"
      ]
     },
     "metadata": {},
     "output_type": "display_data"
    },
    {
     "data": {
      "text/plain": [
       "'Scores:[[0.04289682 0.05235808 0.06483659 0.05368306 0.05115391]]'"
      ]
     },
     "metadata": {},
     "output_type": "display_data"
    },
    {
     "data": {
      "text/plain": [
       "'Mean:0.05298569298605969'"
      ]
     },
     "metadata": {},
     "output_type": "display_data"
    },
    {
     "data": {
      "text/plain": [
       "'Standard deviation:0.007020892463805663'"
      ]
     },
     "metadata": {},
     "output_type": "display_data"
    },
    {
     "data": {
      "text/html": [
       "<div>\n",
       "<style scoped>\n",
       "    .dataframe tbody tr th:only-of-type {\n",
       "        vertical-align: middle;\n",
       "    }\n",
       "\n",
       "    .dataframe tbody tr th {\n",
       "        vertical-align: top;\n",
       "    }\n",
       "\n",
       "    .dataframe thead th {\n",
       "        text-align: right;\n",
       "    }\n",
       "</style>\n",
       "<table border=\"1\" class=\"dataframe\">\n",
       "  <thead>\n",
       "    <tr style=\"text-align: right;\">\n",
       "      <th></th>\n",
       "      <th>coefficients</th>\n",
       "    </tr>\n",
       "  </thead>\n",
       "  <tbody>\n",
       "    <tr>\n",
       "      <th>Death inzsumTotal 20 - 29</th>\n",
       "      <td>0.161655</td>\n",
       "    </tr>\n",
       "    <tr>\n",
       "      <th>parks_percent_change_from_baseline_day_6</th>\n",
       "      <td>0.145246</td>\n",
       "    </tr>\n",
       "    <tr>\n",
       "      <th>transit_stations_percent_change_from_baseline_day_6</th>\n",
       "      <td>0.125744</td>\n",
       "    </tr>\n",
       "    <tr>\n",
       "      <th>retail_and_recreation_percent_change_from_baseline_day_6</th>\n",
       "      <td>0.109794</td>\n",
       "    </tr>\n",
       "    <tr>\n",
       "      <th>Sport activities</th>\n",
       "      <td>0.098504</td>\n",
       "    </tr>\n",
       "    <tr>\n",
       "      <th>...</th>\n",
       "      <td>...</td>\n",
       "    </tr>\n",
       "    <tr>\n",
       "      <th>universities and other educational establishments</th>\n",
       "      <td>-0.092004</td>\n",
       "    </tr>\n",
       "    <tr>\n",
       "      <th>temp_max_day_6</th>\n",
       "      <td>-0.102249</td>\n",
       "    </tr>\n",
       "    <tr>\n",
       "      <th>Events</th>\n",
       "      <td>-0.103541</td>\n",
       "    </tr>\n",
       "    <tr>\n",
       "      <th>ICU_Covid19Patients_inz</th>\n",
       "      <td>-0.109657</td>\n",
       "    </tr>\n",
       "    <tr>\n",
       "      <th>test_inzsumTotal</th>\n",
       "      <td>-0.137690</td>\n",
       "    </tr>\n",
       "  </tbody>\n",
       "</table>\n",
       "<p>242 rows × 1 columns</p>\n",
       "</div>"
      ],
      "text/plain": [
       "                                                    coefficients\n",
       "Death inzsumTotal 20 - 29                               0.161655\n",
       "parks_percent_change_from_baseline_day_6                0.145246\n",
       "transit_stations_percent_change_from_baseline_d...      0.125744\n",
       "retail_and_recreation_percent_change_from_basel...      0.109794\n",
       "Sport activities                                        0.098504\n",
       "...                                                          ...\n",
       "universities and other educational establishments      -0.092004\n",
       "temp_max_day_6                                         -0.102249\n",
       "Events                                                 -0.103541\n",
       "ICU_Covid19Patients_inz                                -0.109657\n",
       "test_inzsumTotal                                       -0.137690\n",
       "\n",
       "[242 rows x 1 columns]"
      ]
     },
     "metadata": {},
     "output_type": "display_data"
    },
    {
     "data": {
      "text/plain": [
       "'----------End of evaluating (7.0081095695495605)----------'"
      ]
     },
     "metadata": {},
     "output_type": "display_data"
    },
    {
     "data": {
      "text/plain": [
       "'---Lasso---death_inz_entries---'"
      ]
     },
     "metadata": {},
     "output_type": "display_data"
    },
    {
     "data": {
      "text/plain": [
       "Lasso(alpha=0.0001)"
      ]
     },
     "metadata": {},
     "output_type": "display_data"
    },
    {
     "data": {
      "text/plain": [
       "'Scores:[[0.0292514  0.03101672 0.02171582 0.02032745 0.02530927]]'"
      ]
     },
     "metadata": {},
     "output_type": "display_data"
    },
    {
     "data": {
      "text/plain": [
       "'Mean:0.025524133438071077'"
      ]
     },
     "metadata": {},
     "output_type": "display_data"
    },
    {
     "data": {
      "text/plain": [
       "'Standard deviation:0.004138019072258814'"
      ]
     },
     "metadata": {},
     "output_type": "display_data"
    },
    {
     "data": {
      "text/html": [
       "<div>\n",
       "<style scoped>\n",
       "    .dataframe tbody tr th:only-of-type {\n",
       "        vertical-align: middle;\n",
       "    }\n",
       "\n",
       "    .dataframe tbody tr th {\n",
       "        vertical-align: top;\n",
       "    }\n",
       "\n",
       "    .dataframe thead th {\n",
       "        text-align: right;\n",
       "    }\n",
       "</style>\n",
       "<table border=\"1\" class=\"dataframe\">\n",
       "  <thead>\n",
       "    <tr style=\"text-align: right;\">\n",
       "      <th></th>\n",
       "      <th>coefficients</th>\n",
       "    </tr>\n",
       "  </thead>\n",
       "  <tbody>\n",
       "    <tr>\n",
       "      <th>Death inz_entries female</th>\n",
       "      <td>0.507942</td>\n",
       "    </tr>\n",
       "    <tr>\n",
       "      <th>Death inz_entries male</th>\n",
       "      <td>0.502378</td>\n",
       "    </tr>\n",
       "    <tr>\n",
       "      <th>Cases inz_entries 80+</th>\n",
       "      <td>0.082079</td>\n",
       "    </tr>\n",
       "    <tr>\n",
       "      <th>Death inz_entries 80+</th>\n",
       "      <td>0.073473</td>\n",
       "    </tr>\n",
       "    <tr>\n",
       "      <th>hosp_inz_entries</th>\n",
       "      <td>0.036926</td>\n",
       "    </tr>\n",
       "    <tr>\n",
       "      <th>...</th>\n",
       "      <td>...</td>\n",
       "    </tr>\n",
       "    <tr>\n",
       "      <th>clouds_day_0</th>\n",
       "      <td>-0.001823</td>\n",
       "    </tr>\n",
       "    <tr>\n",
       "      <th>Cases inzsumTotal 80+</th>\n",
       "      <td>-0.002358</td>\n",
       "    </tr>\n",
       "    <tr>\n",
       "      <th>Death inzsumTotal 80+</th>\n",
       "      <td>-0.006293</td>\n",
       "    </tr>\n",
       "    <tr>\n",
       "      <th>maxNeighborIncidence</th>\n",
       "      <td>-0.006640</td>\n",
       "    </tr>\n",
       "    <tr>\n",
       "      <th>death_inz_entries</th>\n",
       "      <td>-0.508755</td>\n",
       "    </tr>\n",
       "  </tbody>\n",
       "</table>\n",
       "<p>242 rows × 1 columns</p>\n",
       "</div>"
      ],
      "text/plain": [
       "                          coefficients\n",
       "Death inz_entries female      0.507942\n",
       "Death inz_entries male        0.502378\n",
       "Cases inz_entries 80+         0.082079\n",
       "Death inz_entries 80+         0.073473\n",
       "hosp_inz_entries              0.036926\n",
       "...                                ...\n",
       "clouds_day_0                 -0.001823\n",
       "Cases inzsumTotal 80+        -0.002358\n",
       "Death inzsumTotal 80+        -0.006293\n",
       "maxNeighborIncidence         -0.006640\n",
       "death_inz_entries            -0.508755\n",
       "\n",
       "[242 rows x 1 columns]"
      ]
     },
     "metadata": {},
     "output_type": "display_data"
    },
    {
     "data": {
      "text/plain": [
       "'----------End of evaluating (5.103142499923706)----------'"
      ]
     },
     "metadata": {},
     "output_type": "display_data"
    }
   ],
   "source": [
    "for label in ['hosp_inz_entries', 'testPositvity','googleMobility','death_inz_entries']:\n",
    "    tl = pip.fit_transform(train_labels[[label]]).ravel()\n",
    "\n",
    "    # Lasso regression\n",
    "    display(\"---Lasso---\"+label+\"---\")\n",
    "    start = time.time()\n",
    "    parameters = {'alpha':[0.00001, 0.0001]}\n",
    "    reg = GridSearchCV(linear_model.Lasso(), parameters, cv=cv, n_jobs=-1, scoring='neg_mean_squared_error')\n",
    "    reg.fit(train_features, tl)\n",
    "    #display(pd.DataFrame(reg.cv_results_))\n",
    "    display(reg.best_estimator_)\n",
    "    scores = pd.DataFrame(reg.cv_results_).loc[[reg.best_index_]][['split'+str(i)+'_test_score' for i in range(0,cv)]].values\n",
    "    scores = np.sqrt(-scores)\n",
    "    display(\"Scores:\"+str(scores))\n",
    "    display(\"Mean:\"+str(scores.mean()))\n",
    "    display(\"Standard deviation:\"+str(scores.std()))\n",
    "    display(pd.DataFrame(reg.best_estimator_.coef_.transpose(), index=featureNames, columns=['coefficients']).sort_values(['coefficients'], ascending=False))\n",
    "    display(\"----------End of evaluating (%s)----------\" % (time.time() - start))"
   ]
  },
  {
   "cell_type": "code",
   "execution_count": null,
   "id": "martial-defendant",
   "metadata": {},
   "outputs": [],
   "source": [
    "for label in ['hosp_inz_entries', 'testPositvity','googleMobility','death_inz_entries']:\n",
    "    tl = pip.fit_transform(train_labels[[label]]).ravel()\n",
    "\n",
    "    # MLP regression\n",
    "    display(\"---MLP---\"+label+\"---\")\n",
    "    start = time.time()\n",
    "    parameters = {'hidden_layer_sizes':[(100,50,50,20,10,10)]}\n",
    "    reg = GridSearchCV(MLPRegressor(), parameters, cv=cv, n_jobs=-1, scoring='neg_mean_squared_error')\n",
    "    reg.fit(train_features, tl)\n",
    "    #display(pd.DataFrame(reg.cv_results_))\n",
    "    display(reg.best_estimator_)\n",
    "    scores = pd.DataFrame(reg.cv_results_).loc[[reg.best_index_]][['split'+str(i)+'_test_score' for i in range(0,cv)]].values\n",
    "    scores = np.sqrt(-scores)\n",
    "    display(\"Scores:\"+str(scores))\n",
    "    display(\"Mean:\"+str(scores.mean()))\n",
    "    display(\"Standard deviation:\"+str(scores.std()))\n",
    "    display(\"----------End of evaluating (%s)----------\" % (time.time() - start))"
   ]
  },
  {
   "cell_type": "code",
   "execution_count": null,
   "id": "three-cisco",
   "metadata": {
    "scrolled": false
   },
   "outputs": [],
   "source": [
    "for label in ['death_inz_entries','hosp_inz_entries', 'testPositvity','googleMobility']:\n",
    "    tl = pip.fit_transform(train_labels[[label]]).ravel()\n",
    "\n",
    "    # RandomForestRegressor\n",
    "    display(\"---RandomForestRegressor---\"+label+\"---\")\n",
    "    start = time.time()\n",
    "    parameters = {'n_estimators':[20]}\n",
    "    reg = GridSearchCV(RandomForestRegressor(), parameters, cv=cv, n_jobs=-1, scoring='neg_mean_squared_error')\n",
    "    reg.fit(train_features, tl)\n",
    "    #display(pd.DataFrame(reg.cv_results_))\n",
    "    display(reg.best_estimator_)\n",
    "    scores = pd.DataFrame(reg.cv_results_).loc[[reg.best_index_]][['split'+str(i)+'_test_score' for i in range(0,cv)]].values\n",
    "    scores = np.sqrt(-scores)\n",
    "    display(\"Scores:\"+str(scores))\n",
    "    display(\"Mean:\"+str(scores.mean()))\n",
    "    display(\"Standard deviation:\"+str(scores.std()))\n",
    "    display(pd.DataFrame(reg.best_estimator_.feature_importances_.transpose(), index=featureNames, columns=['importance']).sort_values(['importance'], ascending=False))\n",
    "    display(\"----------End of evaluating (%s)----------\" % (time.time() - start))\n"
   ]
  },
  {
   "cell_type": "code",
   "execution_count": null,
   "id": "adapted-spelling",
   "metadata": {
    "scrolled": false
   },
   "outputs": [],
   "source": [
    "for label in ['hosp_inz_entries', 'testPositvity','googleMobility','death_inz_entries']:\n",
    "    tl = pip.fit_transform(train_labels[[label]]).ravel()\n",
    "    \n",
    "    # lightGBM\n",
    "    display(\"---lightGBM---\"+label+\"---\")\n",
    "    start = time.time()\n",
    "    parameters = {'n_estimators':[100]}\n",
    "    reg = GridSearchCV(lightgbm.LGBMRegressor(), parameters, cv=cv, n_jobs=-1, scoring='neg_mean_squared_error')\n",
    "    reg.fit(train_features, tl)\n",
    "    #display(pd.DataFrame(reg.cv_results_))\n",
    "    display(reg.best_estimator_)\n",
    "    scores = pd.DataFrame(reg.cv_results_).loc[[reg.best_index_]][['split'+str(i)+'_test_score' for i in range(0,cv)]].values\n",
    "    scores = np.sqrt(-scores)\n",
    "    display(\"Scores:\"+str(scores))\n",
    "    display(\"Mean:\"+str(scores.mean()))\n",
    "    display(\"Standard deviation:\"+str(scores.std()))\n",
    "    display(pd.DataFrame(reg.best_estimator_.feature_importances_.transpose(), index=featureNames, columns=['importance']).sort_values(['importance'], ascending=False))\n",
    "    display(\"----------End of evaluating (%s)----------\" % (time.time() - start))"
   ]
  },
  {
   "cell_type": "code",
   "execution_count": null,
   "id": "bibliographic-lunch",
   "metadata": {
    "scrolled": false
   },
   "outputs": [],
   "source": [
    "for label in ['hosp_inz_entries', 'testPositvity','googleMobility','death_inz_entries']:\n",
    "    tl = pip.fit_transform(train_labels[[label]]).ravel()\n",
    "    \n",
    "    # XGBoost\n",
    "    display(\"---XGBoost---\"+label+\"---\")\n",
    "    start = time.time()\n",
    "    parameters = {'n_estimators':[10], 'reg_alpha': [0], 'reg_lambda': [1]}\n",
    "    reg = GridSearchCV(xgb.XGBRegressor(), parameters, cv=cv, n_jobs=-1, scoring='neg_mean_squared_error')\n",
    "    reg.fit(train_features, tl)\n",
    "    #display(pd.DataFrame(reg.cv_results_))\n",
    "    #display(reg.best_estimator_.get_xgb_params())\n",
    "    scores = pd.DataFrame(reg.cv_results_).loc[[reg.best_index_]][['split'+str(i)+'_test_score' for i in range(0,cv)]].values\n",
    "    scores = np.sqrt(-scores)\n",
    "    display(\"Scores:\"+str(scores))\n",
    "    display(\"Mean:\"+str(scores.mean()))\n",
    "    display(\"Standard deviation:\"+str(scores.std()))\n",
    "    display(pd.DataFrame(reg.best_estimator_.feature_importances_.transpose(), index=featureNames, columns=['importance']).sort_values(['importance'], ascending=False))\n",
    "    display(\"----------End of evaluating (%s)----------\" % (time.time() - start))"
   ]
  },
  {
   "cell_type": "code",
   "execution_count": null,
   "id": "enclosed-lucas",
   "metadata": {
    "scrolled": false
   },
   "outputs": [],
   "source": [
    "# PCA\n",
    "from sklearn.decomposition import IncrementalPCA\n",
    "\n",
    "ipca = IncrementalPCA()\n",
    "ipca.fit(train_features)\n",
    "display(pd.DataFrame(ipca.singular_values_.transpose(), index=featureNames, columns=['singular value']).sort_values(['singular value'], ascending=False))"
   ]
  },
  {
   "cell_type": "code",
   "execution_count": null,
   "id": "based-competition",
   "metadata": {},
   "outputs": [],
   "source": []
  }
 ],
 "metadata": {
  "kernelspec": {
   "display_name": "Python 3",
   "language": "python",
   "name": "python3"
  },
  "language_info": {
   "codemirror_mode": {
    "name": "ipython",
    "version": 3
   },
   "file_extension": ".py",
   "mimetype": "text/x-python",
   "name": "python",
   "nbconvert_exporter": "python",
   "pygments_lexer": "ipython3",
   "version": "3.9.2"
  }
 },
 "nbformat": 4,
 "nbformat_minor": 5
}
