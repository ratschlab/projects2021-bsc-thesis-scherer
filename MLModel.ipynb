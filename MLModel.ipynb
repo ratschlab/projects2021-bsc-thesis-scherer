{
 "cells": [
  {
   "cell_type": "code",
   "execution_count": 4,
   "id": "prime-laundry",
   "metadata": {
    "scrolled": false
   },
   "outputs": [
    {
     "data": {
      "text/plain": [
       "['Cases inz_entries 0 - 9_14_dayMean',\n",
       " 'Cases inz_entries 10 - 19_14_dayMean',\n",
       " 'Cases inz_entries 20 - 29_14_dayMean',\n",
       " 'Cases inz_entries 30 - 39_14_dayMean',\n",
       " 'Cases inz_entries 40 - 49_14_dayMean',\n",
       " 'Cases inz_entries 50 - 59_14_dayMean',\n",
       " 'Cases inz_entries 60 - 69_14_dayMean',\n",
       " 'Cases inz_entries 70 - 79_14_dayMean',\n",
       " 'Cases inz_entries 80+_14_dayMean',\n",
       " 'Cases inzsumTotal 0 - 9_14_dayMean',\n",
       " 'Cases inzsumTotal 10 - 19_14_dayMean',\n",
       " 'Cases inzsumTotal 20 - 29_14_dayMean',\n",
       " 'Cases inzsumTotal 30 - 39_14_dayMean',\n",
       " 'Cases inzsumTotal 40 - 49_14_dayMean',\n",
       " 'Cases inzsumTotal 50 - 59_14_dayMean',\n",
       " 'Cases inzsumTotal 60 - 69_14_dayMean',\n",
       " 'Cases inzsumTotal 70 - 79_14_dayMean',\n",
       " 'Cases inzsumTotal 80+_14_dayMean',\n",
       " 'Death inz_entries 0 - 9_14_dayMean',\n",
       " 'Death inz_entries 10 - 19_14_dayMean',\n",
       " 'Death inz_entries 20 - 29_14_dayMean',\n",
       " 'Death inz_entries 30 - 39_14_dayMean',\n",
       " 'Death inz_entries 40 - 49_14_dayMean',\n",
       " 'Death inz_entries 50 - 59_14_dayMean',\n",
       " 'Death inz_entries 60 - 69_14_dayMean',\n",
       " 'Death inz_entries 70 - 79_14_dayMean',\n",
       " 'Death inz_entries 80+_14_dayMean',\n",
       " 'Death inzsumTotal 0 - 9_14_dayMean',\n",
       " 'Death inzsumTotal 10 - 19_14_dayMean',\n",
       " 'Death inzsumTotal 20 - 29_14_dayMean',\n",
       " 'Death inzsumTotal 30 - 39_14_dayMean',\n",
       " 'Death inzsumTotal 40 - 49_14_dayMean',\n",
       " 'Death inzsumTotal 50 - 59_14_dayMean',\n",
       " 'Death inzsumTotal 60 - 69_14_dayMean',\n",
       " 'Death inzsumTotal 70 - 79_14_dayMean',\n",
       " 'Death inzsumTotal 80+_14_dayMean',\n",
       " 'Hosp inz_entries 0 - 9_14_dayMean',\n",
       " 'Hosp inz_entries 10 - 19_14_dayMean',\n",
       " 'Hosp inz_entries 20 - 29_14_dayMean',\n",
       " 'Hosp inz_entries 30 - 39_14_dayMean',\n",
       " 'Hosp inz_entries 40 - 49_14_dayMean',\n",
       " 'Hosp inz_entries 50 - 59_14_dayMean',\n",
       " 'Hosp inz_entries 60 - 69_14_dayMean',\n",
       " 'Hosp inz_entries 70 - 79_14_dayMean',\n",
       " 'Hosp inz_entries 80+_14_dayMean',\n",
       " 'Hosp inzsumTotal 0 - 9_14_dayMean',\n",
       " 'Hosp inzsumTotal 10 - 19_14_dayMean',\n",
       " 'Hosp inzsumTotal 20 - 29_14_dayMean',\n",
       " 'Hosp inzsumTotal 30 - 39_14_dayMean',\n",
       " 'Hosp inzsumTotal 40 - 49_14_dayMean',\n",
       " 'Hosp inzsumTotal 50 - 59_14_dayMean',\n",
       " 'Hosp inzsumTotal 60 - 69_14_dayMean',\n",
       " 'Hosp inzsumTotal 70 - 79_14_dayMean',\n",
       " 'Hosp inzsumTotal 80+_14_dayMean',\n",
       " 'Cases inz_entries female_14_dayMean',\n",
       " 'Cases inz_entries male_14_dayMean',\n",
       " 'Cases inzsumTotal female_14_dayMean',\n",
       " 'Cases inzsumTotal male_14_dayMean',\n",
       " 'Death inz_entries female_14_dayMean',\n",
       " 'Death inz_entries male_14_dayMean',\n",
       " 'Death inzsumTotal female_14_dayMean',\n",
       " 'Death inzsumTotal male_14_dayMean',\n",
       " 'Hosp inz_entries female_14_dayMean',\n",
       " 'Hosp inz_entries male_14_dayMean',\n",
       " 'Hosp inzsumTotal female_14_dayMean',\n",
       " 'Hosp inzsumTotal male_14_dayMean',\n",
       " 'VaccDosesAdministered per100PersonsTotal_14_dayMean',\n",
       " 'FullyVaccPersons per100PersonsTotal_14_dayMean',\n",
       " 'anteil_pos_14_dayMean',\n",
       " 'variant_error_14_dayMean',\n",
       " 'case_inzsumTotal_14_dayMean',\n",
       " 'hosp_inzsumTotal_14_dayMean',\n",
       " 'death_inzsumTotal_14_dayMean',\n",
       " 'test_inzsumTotal_14_dayMean',\n",
       " 'case_inz_entries_14_dayMean',\n",
       " 'hosp_inz_entries_14_dayMean',\n",
       " 'death_inz_entries_14_dayMean',\n",
       " 'test_inz_entries_14_dayMean',\n",
       " 'testPositvity_14_dayMean',\n",
       " 'median_R_mean_14_dayMean',\n",
       " 'R_error_14_dayMean',\n",
       " 'meanNeighborIncidence_14_dayMean',\n",
       " 'maxNeighborIncidence_14_dayMean',\n",
       " 'kofStrigency_14_dayMean',\n",
       " 'Borders_14_dayMean',\n",
       " 'Events_14_dayMean',\n",
       " 'Gatherings/private events_14_dayMean',\n",
       " 'Demonstrations_14_dayMean',\n",
       " 'Primary (includes kindergarten) and lower secondary school_14_dayMean',\n",
       " 'Upper secondary school, vocational schools and higher education_14_dayMean',\n",
       " 'Universities and other educational establishments_14_dayMean',\n",
       " 'Mountain railways_14_dayMean',\n",
       " 'Homeworking_14_dayMean',\n",
       " 'Restaurants_14_dayMean',\n",
       " 'Discos/Nightclubs_14_dayMean',\n",
       " 'Shops/Markets_14_dayMean',\n",
       " 'Penalties_14_dayMean',\n",
       " 'Cultural, entertainment and recreational facilities_14_dayMean',\n",
       " 'Sport/Wellness facilities_14_dayMean',\n",
       " 'Sport activities_14_dayMean',\n",
       " 'Religious services_14_dayMean',\n",
       " 'Singing allowed_14_dayMean',\n",
       " 'maskMandatories_14_dayMean',\n",
       " 'ICU_AllPatients_inz_14_dayMean',\n",
       " 'ICU_Covid19Patients_inz_14_dayMean',\n",
       " 'ICU_Capacity_inz_14_dayMean',\n",
       " 'Total_AllPatients_inz_14_dayMean',\n",
       " 'Total_Covid19Patients_inz_14_dayMean',\n",
       " 'Total_Capacity_inz_14_dayMean',\n",
       " 'ICU_NonCovid19Patients_inz_14_dayMean',\n",
       " 'ICU_FreeCapacity_inz_14_dayMean',\n",
       " 'Total_NonCovid19Patients_inz_14_dayMean',\n",
       " 'Total_FreeCapacity_inz_14_dayMean',\n",
       " 'isHoliday_14_dayMean',\n",
       " 'retail_and_recreation_percent_change_from_baseline_14_dayMean',\n",
       " 'grocery_and_pharmacy_percent_change_from_baseline_14_dayMean',\n",
       " 'parks_percent_change_from_baseline_14_dayMean',\n",
       " 'transit_stations_percent_change_from_baseline_14_dayMean',\n",
       " 'workplaces_percent_change_from_baseline_14_dayMean',\n",
       " 'residential_percent_change_from_baseline_14_dayMean',\n",
       " 'intervistaMob_14_dayMean',\n",
       " 'temp_min_14_dayMean',\n",
       " 'temp_max_14_dayMean',\n",
       " 'clouds_14_dayMean',\n",
       " 'precipitation_14_dayMean',\n",
       " 'retail_and_recreation_percent_change_from_baseline_day_0',\n",
       " 'retail_and_recreation_percent_change_from_baseline_day_1',\n",
       " 'retail_and_recreation_percent_change_from_baseline_day_2',\n",
       " 'retail_and_recreation_percent_change_from_baseline_day_3',\n",
       " 'retail_and_recreation_percent_change_from_baseline_day_4',\n",
       " 'retail_and_recreation_percent_change_from_baseline_day_5',\n",
       " 'retail_and_recreation_percent_change_from_baseline_day_6',\n",
       " 'retail_and_recreation_percent_change_from_baseline_day_7',\n",
       " 'retail_and_recreation_percent_change_from_baseline_day_8',\n",
       " 'retail_and_recreation_percent_change_from_baseline_day_9',\n",
       " 'retail_and_recreation_percent_change_from_baseline_day_10',\n",
       " 'retail_and_recreation_percent_change_from_baseline_day_11',\n",
       " 'retail_and_recreation_percent_change_from_baseline_day_12',\n",
       " 'retail_and_recreation_percent_change_from_baseline_day_13',\n",
       " 'grocery_and_pharmacy_percent_change_from_baseline_day_0',\n",
       " 'grocery_and_pharmacy_percent_change_from_baseline_day_1',\n",
       " 'grocery_and_pharmacy_percent_change_from_baseline_day_2',\n",
       " 'grocery_and_pharmacy_percent_change_from_baseline_day_3',\n",
       " 'grocery_and_pharmacy_percent_change_from_baseline_day_4',\n",
       " 'grocery_and_pharmacy_percent_change_from_baseline_day_5',\n",
       " 'grocery_and_pharmacy_percent_change_from_baseline_day_6',\n",
       " 'grocery_and_pharmacy_percent_change_from_baseline_day_7',\n",
       " 'grocery_and_pharmacy_percent_change_from_baseline_day_8',\n",
       " 'grocery_and_pharmacy_percent_change_from_baseline_day_9',\n",
       " 'grocery_and_pharmacy_percent_change_from_baseline_day_10',\n",
       " 'grocery_and_pharmacy_percent_change_from_baseline_day_11',\n",
       " 'grocery_and_pharmacy_percent_change_from_baseline_day_12',\n",
       " 'grocery_and_pharmacy_percent_change_from_baseline_day_13',\n",
       " 'parks_percent_change_from_baseline_day_0',\n",
       " 'parks_percent_change_from_baseline_day_1',\n",
       " 'parks_percent_change_from_baseline_day_2',\n",
       " 'parks_percent_change_from_baseline_day_3',\n",
       " 'parks_percent_change_from_baseline_day_4',\n",
       " 'parks_percent_change_from_baseline_day_5',\n",
       " 'parks_percent_change_from_baseline_day_6',\n",
       " 'parks_percent_change_from_baseline_day_7',\n",
       " 'parks_percent_change_from_baseline_day_8',\n",
       " 'parks_percent_change_from_baseline_day_9',\n",
       " 'parks_percent_change_from_baseline_day_10',\n",
       " 'parks_percent_change_from_baseline_day_11',\n",
       " 'parks_percent_change_from_baseline_day_12',\n",
       " 'parks_percent_change_from_baseline_day_13',\n",
       " 'transit_stations_percent_change_from_baseline_day_0',\n",
       " 'transit_stations_percent_change_from_baseline_day_1',\n",
       " 'transit_stations_percent_change_from_baseline_day_2',\n",
       " 'transit_stations_percent_change_from_baseline_day_3',\n",
       " 'transit_stations_percent_change_from_baseline_day_4',\n",
       " 'transit_stations_percent_change_from_baseline_day_5',\n",
       " 'transit_stations_percent_change_from_baseline_day_6',\n",
       " 'transit_stations_percent_change_from_baseline_day_7',\n",
       " 'transit_stations_percent_change_from_baseline_day_8',\n",
       " 'transit_stations_percent_change_from_baseline_day_9',\n",
       " 'transit_stations_percent_change_from_baseline_day_10',\n",
       " 'transit_stations_percent_change_from_baseline_day_11',\n",
       " 'transit_stations_percent_change_from_baseline_day_12',\n",
       " 'transit_stations_percent_change_from_baseline_day_13',\n",
       " 'workplaces_percent_change_from_baseline_day_0',\n",
       " 'workplaces_percent_change_from_baseline_day_1',\n",
       " 'workplaces_percent_change_from_baseline_day_2',\n",
       " 'workplaces_percent_change_from_baseline_day_3',\n",
       " 'workplaces_percent_change_from_baseline_day_4',\n",
       " 'workplaces_percent_change_from_baseline_day_5',\n",
       " 'workplaces_percent_change_from_baseline_day_6',\n",
       " 'workplaces_percent_change_from_baseline_day_7',\n",
       " 'workplaces_percent_change_from_baseline_day_8',\n",
       " 'workplaces_percent_change_from_baseline_day_9',\n",
       " 'workplaces_percent_change_from_baseline_day_10',\n",
       " 'workplaces_percent_change_from_baseline_day_11',\n",
       " 'workplaces_percent_change_from_baseline_day_12',\n",
       " 'workplaces_percent_change_from_baseline_day_13',\n",
       " 'residential_percent_change_from_baseline_day_0',\n",
       " 'residential_percent_change_from_baseline_day_1',\n",
       " 'residential_percent_change_from_baseline_day_2',\n",
       " 'residential_percent_change_from_baseline_day_3',\n",
       " 'residential_percent_change_from_baseline_day_4',\n",
       " 'residential_percent_change_from_baseline_day_5',\n",
       " 'residential_percent_change_from_baseline_day_6',\n",
       " 'residential_percent_change_from_baseline_day_7',\n",
       " 'residential_percent_change_from_baseline_day_8',\n",
       " 'residential_percent_change_from_baseline_day_9',\n",
       " 'residential_percent_change_from_baseline_day_10',\n",
       " 'residential_percent_change_from_baseline_day_11',\n",
       " 'residential_percent_change_from_baseline_day_12',\n",
       " 'residential_percent_change_from_baseline_day_13',\n",
       " 'intervistaMob_day_0',\n",
       " 'intervistaMob_day_1',\n",
       " 'intervistaMob_day_2',\n",
       " 'intervistaMob_day_3',\n",
       " 'intervistaMob_day_4',\n",
       " 'intervistaMob_day_5',\n",
       " 'intervistaMob_day_6',\n",
       " 'intervistaMob_day_7',\n",
       " 'intervistaMob_day_8',\n",
       " 'intervistaMob_day_9',\n",
       " 'intervistaMob_day_10',\n",
       " 'intervistaMob_day_11',\n",
       " 'intervistaMob_day_12',\n",
       " 'intervistaMob_day_13',\n",
       " 'temp_min_day_0',\n",
       " 'temp_min_day_1',\n",
       " 'temp_min_day_2',\n",
       " 'temp_min_day_3',\n",
       " 'temp_min_day_4',\n",
       " 'temp_min_day_5',\n",
       " 'temp_min_day_6',\n",
       " 'temp_min_day_7',\n",
       " 'temp_min_day_8',\n",
       " 'temp_min_day_9',\n",
       " 'temp_min_day_10',\n",
       " 'temp_min_day_11',\n",
       " 'temp_min_day_12',\n",
       " 'temp_min_day_13',\n",
       " 'temp_max_day_0',\n",
       " 'temp_max_day_1',\n",
       " 'temp_max_day_2',\n",
       " 'temp_max_day_3',\n",
       " 'temp_max_day_4',\n",
       " 'temp_max_day_5',\n",
       " 'temp_max_day_6',\n",
       " 'temp_max_day_7',\n",
       " 'temp_max_day_8',\n",
       " 'temp_max_day_9',\n",
       " 'temp_max_day_10',\n",
       " 'temp_max_day_11',\n",
       " 'temp_max_day_12',\n",
       " 'temp_max_day_13',\n",
       " 'clouds_day_0',\n",
       " 'clouds_day_1',\n",
       " 'clouds_day_2',\n",
       " 'clouds_day_3',\n",
       " 'clouds_day_4',\n",
       " 'clouds_day_5',\n",
       " 'clouds_day_6',\n",
       " 'clouds_day_7',\n",
       " 'clouds_day_8',\n",
       " 'clouds_day_9',\n",
       " 'clouds_day_10',\n",
       " 'clouds_day_11',\n",
       " 'clouds_day_12',\n",
       " 'clouds_day_13',\n",
       " 'precipitation_day_0',\n",
       " 'precipitation_day_1',\n",
       " 'precipitation_day_2',\n",
       " 'precipitation_day_3',\n",
       " 'precipitation_day_4',\n",
       " 'precipitation_day_5',\n",
       " 'precipitation_day_6',\n",
       " 'precipitation_day_7',\n",
       " 'precipitation_day_8',\n",
       " 'precipitation_day_9',\n",
       " 'precipitation_day_10',\n",
       " 'precipitation_day_11',\n",
       " 'precipitation_day_12',\n",
       " 'precipitation_day_13',\n",
       " 'temp_min_future_day_0',\n",
       " 'temp_min_future_day_1',\n",
       " 'temp_min_future_day_2',\n",
       " 'temp_min_future_day_3',\n",
       " 'temp_min_future_day_4',\n",
       " 'temp_min_future_day_5',\n",
       " 'temp_min_future_day_6',\n",
       " 'temp_min_future_day_7',\n",
       " 'temp_min_future_day_8',\n",
       " 'temp_min_future_day_9',\n",
       " 'temp_min_future_day_10',\n",
       " 'temp_min_future_day_11',\n",
       " 'temp_min_future_day_12',\n",
       " 'temp_min_future_day_13',\n",
       " 'temp_max_future_day_0',\n",
       " 'temp_max_future_day_1',\n",
       " 'temp_max_future_day_2',\n",
       " 'temp_max_future_day_3',\n",
       " 'temp_max_future_day_4',\n",
       " 'temp_max_future_day_5',\n",
       " 'temp_max_future_day_6',\n",
       " 'temp_max_future_day_7',\n",
       " 'temp_max_future_day_8',\n",
       " 'temp_max_future_day_9',\n",
       " 'temp_max_future_day_10',\n",
       " 'temp_max_future_day_11',\n",
       " 'temp_max_future_day_12',\n",
       " 'temp_max_future_day_13',\n",
       " 'clouds_future_day_0',\n",
       " 'clouds_future_day_1',\n",
       " 'clouds_future_day_2',\n",
       " 'clouds_future_day_3',\n",
       " 'clouds_future_day_4',\n",
       " 'clouds_future_day_5',\n",
       " 'clouds_future_day_6',\n",
       " 'clouds_future_day_7',\n",
       " 'clouds_future_day_8',\n",
       " 'clouds_future_day_9',\n",
       " 'clouds_future_day_10',\n",
       " 'clouds_future_day_11',\n",
       " 'clouds_future_day_12',\n",
       " 'clouds_future_day_13',\n",
       " 'precipitation_future_day_0',\n",
       " 'precipitation_future_day_1',\n",
       " 'precipitation_future_day_2',\n",
       " 'precipitation_future_day_3',\n",
       " 'precipitation_future_day_4',\n",
       " 'precipitation_future_day_5',\n",
       " 'precipitation_future_day_6',\n",
       " 'precipitation_future_day_7',\n",
       " 'precipitation_future_day_8',\n",
       " 'precipitation_future_day_9',\n",
       " 'precipitation_future_day_10',\n",
       " 'precipitation_future_day_11',\n",
       " 'precipitation_future_day_12',\n",
       " 'precipitation_future_day_13',\n",
       " 'baseline_hosp_inz_entries',\n",
       " 'baseline_death_inz_entries',\n",
       " 'baseline_testPositvity',\n",
       " 'baseline_workplaces_percent_change_from_baseline',\n",
       " 'baseline_transit_stations_percent_change_from_baseline',\n",
       " '2PersonHouseholds_perc',\n",
       " '3PersonHouseholds_perc',\n",
       " '4PersonHouseholds_perc',\n",
       " '5PersonHouseholds_perc',\n",
       " '6+PersonHouseholds_perc',\n",
       " 'averageHousehold',\n",
       " 'percentage 65 years or over',\n",
       " 'urbanPopulationPercent',\n",
       " 'homeownershipPercent',\n",
       " 'livingSpaceInm2',\n",
       " 'carsPer1000inhabitants',\n",
       " 'publicTransportationPercent',\n",
       " 'privateMotorisedTransportPercent',\n",
       " 'DoctorsPer100Kinhabitants',\n",
       " 'residentsPerKm2',\n",
       " 'residentsPerKm2SettlementArea']"
      ]
     },
     "metadata": {},
     "output_type": "display_data"
    }
   ],
   "source": [
    "import os\n",
    "import pandas as pd\n",
    "pd.options.display.max_rows = None\n",
    "import matplotlib.pyplot as plt\n",
    "import numpy as np\n",
    "import datetime\n",
    "import time\n",
    "from datetime import timedelta\n",
    "from sklearn.pipeline import Pipeline\n",
    "from sklearn.ensemble import RandomForestRegressor\n",
    "from sklearn import linear_model\n",
    "from sklearn import svm\n",
    "from sklearn.model_selection import cross_validate\n",
    "from sklearn.model_selection import cross_val_score\n",
    "from sklearn.model_selection import GridSearchCV\n",
    "from sklearn.preprocessing import StandardScaler\n",
    "from sklearn.preprocessing import MinMaxScaler\n",
    "from sklearn.neural_network import MLPRegressor\n",
    "import lightgbm as lightgbm\n",
    "import xgboost as xgb\n",
    "from sklearn.metrics import mean_squared_error\n",
    "\n",
    "data = pd.read_csv(\"completedata.csv\")\n",
    "data['BASELINE'] = data[['workplaces_percent_change_from_baseline_day_7',\n",
    "                     'workplaces_percent_change_from_baseline_day_8',\n",
    "                     'workplaces_percent_change_from_baseline_day_9',\n",
    "                     'workplaces_percent_change_from_baseline_day_10',\n",
    "                     'workplaces_percent_change_from_baseline_day_11',\n",
    "                     'workplaces_percent_change_from_baseline_day_12',\n",
    "                     'workplaces_percent_change_from_baseline_day_13']].mean(axis=1)\n",
    "train_features = data[data['category']=='train'].iloc[:,0:-7]\n",
    "train_labels = data[data['category']=='train'].iloc[:,-6:-1]\n",
    "validation1_features = data[data['category']=='validation 1'].iloc[:,0:-7]\n",
    "validation1_labels = data[data['category']=='validation 1'].iloc[:,-6:-1]\n",
    "validation2_features = data[data['category']=='validation 2'].iloc[:,0:-7]\n",
    "validation2_labels = data[data['category']=='validation 2'].iloc[:,-6:-1]\n",
    "baseline_validation1 = data[data['category']=='validation 1']\n",
    "baseline_validation2 = data[data['category']=='validation 1']\n",
    "\n",
    "#pip = Pipeline([('std_scaler', StandardScaler())])\n",
    "pip = Pipeline([('minmax_scaler', MinMaxScaler())])\n",
    "featureNames = train_features.columns\n",
    "predictingLabels = validation1_labels.columns\n",
    "display([col for col in featureNames])\n",
    "#display([col for col in predictingLabels])\n",
    "#display(data[['BASELINE','baseline_workplaces_percent_change_from_baseline']])\n"
   ]
  },
  {
   "cell_type": "code",
   "execution_count": 24,
   "id": "charged-aggregate",
   "metadata": {
    "scrolled": false
   },
   "outputs": [
    {
     "data": {
      "text/plain": [
       "'---Ridge---testPositvity---'"
      ]
     },
     "metadata": {},
     "output_type": "display_data"
    },
    {
     "data": {
      "text/plain": [
       "Ridge(alpha=1)"
      ]
     },
     "metadata": {},
     "output_type": "display_data"
    },
    {
     "data": {
      "text/plain": [
       "'Baseline RMSE validation set 1: 0.014392503751041912'"
      ]
     },
     "metadata": {},
     "output_type": "display_data"
    },
    {
     "data": {
      "text/plain": [
       "'Model RMSE validation set 1: 0.12621917288049897'"
      ]
     },
     "metadata": {},
     "output_type": "display_data"
    },
    {
     "data": {
      "text/plain": [
       "'Baseline RMSE validation set 2: 0.045367066627572394'"
      ]
     },
     "metadata": {},
     "output_type": "display_data"
    },
    {
     "data": {
      "text/plain": [
       "'Model RMSE validation set 2: 0.05448782587056962'"
      ]
     },
     "metadata": {},
     "output_type": "display_data"
    },
    {
     "data": {
      "text/html": [
       "<div>\n",
       "<style scoped>\n",
       "    .dataframe tbody tr th:only-of-type {\n",
       "        vertical-align: middle;\n",
       "    }\n",
       "\n",
       "    .dataframe tbody tr th {\n",
       "        vertical-align: top;\n",
       "    }\n",
       "\n",
       "    .dataframe thead th {\n",
       "        text-align: right;\n",
       "    }\n",
       "</style>\n",
       "<table border=\"1\" class=\"dataframe\">\n",
       "  <thead>\n",
       "    <tr style=\"text-align: right;\">\n",
       "      <th></th>\n",
       "      <th>coefficients</th>\n",
       "    </tr>\n",
       "  </thead>\n",
       "  <tbody>\n",
       "    <tr>\n",
       "      <th>baseline_testPositvity</th>\n",
       "      <td>0.349167</td>\n",
       "    </tr>\n",
       "    <tr>\n",
       "      <th>testPositvity_14_dayMean</th>\n",
       "      <td>0.125941</td>\n",
       "    </tr>\n",
       "    <tr>\n",
       "      <th>test_inzsumTotal_14_dayMean</th>\n",
       "      <td>0.099286</td>\n",
       "    </tr>\n",
       "    <tr>\n",
       "      <th>maxNeighborIncidence_14_dayMean</th>\n",
       "      <td>0.066002</td>\n",
       "    </tr>\n",
       "    <tr>\n",
       "      <th>retail_and_recreation_percent_change_from_baseline_14_dayMean</th>\n",
       "      <td>0.043948</td>\n",
       "    </tr>\n",
       "    <tr>\n",
       "      <th>workplaces_percent_change_from_baseline_14_dayMean</th>\n",
       "      <td>0.020718</td>\n",
       "    </tr>\n",
       "    <tr>\n",
       "      <th>grocery_and_pharmacy_percent_change_from_baseline_14_dayMean</th>\n",
       "      <td>0.006405</td>\n",
       "    </tr>\n",
       "    <tr>\n",
       "      <th>residential_percent_change_from_baseline_14_dayMean</th>\n",
       "      <td>0.002043</td>\n",
       "    </tr>\n",
       "    <tr>\n",
       "      <th>case_inz_entries_14_dayMean</th>\n",
       "      <td>0.001287</td>\n",
       "    </tr>\n",
       "    <tr>\n",
       "      <th>test_inz_entries_14_dayMean</th>\n",
       "      <td>-0.008783</td>\n",
       "    </tr>\n",
       "    <tr>\n",
       "      <th>transit_stations_percent_change_from_baseline_14_dayMean</th>\n",
       "      <td>-0.011734</td>\n",
       "    </tr>\n",
       "    <tr>\n",
       "      <th>meanNeighborIncidence_14_dayMean</th>\n",
       "      <td>-0.051600</td>\n",
       "    </tr>\n",
       "    <tr>\n",
       "      <th>kofStrigency_14_dayMean</th>\n",
       "      <td>-0.074251</td>\n",
       "    </tr>\n",
       "    <tr>\n",
       "      <th>case_inzsumTotal_14_dayMean</th>\n",
       "      <td>-0.090574</td>\n",
       "    </tr>\n",
       "    <tr>\n",
       "      <th>parks_percent_change_from_baseline_14_dayMean</th>\n",
       "      <td>-0.091602</td>\n",
       "    </tr>\n",
       "  </tbody>\n",
       "</table>\n",
       "</div>"
      ],
      "text/plain": [
       "                                                    coefficients\n",
       "baseline_testPositvity                                  0.349167\n",
       "testPositvity_14_dayMean                                0.125941\n",
       "test_inzsumTotal_14_dayMean                             0.099286\n",
       "maxNeighborIncidence_14_dayMean                         0.066002\n",
       "retail_and_recreation_percent_change_from_basel...      0.043948\n",
       "workplaces_percent_change_from_baseline_14_dayMean      0.020718\n",
       "grocery_and_pharmacy_percent_change_from_baseli...      0.006405\n",
       "residential_percent_change_from_baseline_14_day...      0.002043\n",
       "case_inz_entries_14_dayMean                             0.001287\n",
       "test_inz_entries_14_dayMean                            -0.008783\n",
       "transit_stations_percent_change_from_baseline_1...     -0.011734\n",
       "meanNeighborIncidence_14_dayMean                       -0.051600\n",
       "kofStrigency_14_dayMean                                -0.074251\n",
       "case_inzsumTotal_14_dayMean                            -0.090574\n",
       "parks_percent_change_from_baseline_14_dayMean          -0.091602"
      ]
     },
     "metadata": {},
     "output_type": "display_data"
    },
    {
     "data": {
      "text/plain": [
       "Ridge(alpha=10)"
      ]
     },
     "metadata": {},
     "output_type": "display_data"
    },
    {
     "data": {
      "text/plain": [
       "'Baseline RMSE validation set 1: 0.014392503751041912'"
      ]
     },
     "metadata": {},
     "output_type": "display_data"
    },
    {
     "data": {
      "text/plain": [
       "'Model RMSE validation set 1: 0.124644719728394'"
      ]
     },
     "metadata": {},
     "output_type": "display_data"
    },
    {
     "data": {
      "text/plain": [
       "'Baseline RMSE validation set 2: 0.045367066627572394'"
      ]
     },
     "metadata": {},
     "output_type": "display_data"
    },
    {
     "data": {
      "text/plain": [
       "'Model RMSE validation set 2: 0.05524616619071146'"
      ]
     },
     "metadata": {},
     "output_type": "display_data"
    },
    {
     "data": {
      "text/html": [
       "<div>\n",
       "<style scoped>\n",
       "    .dataframe tbody tr th:only-of-type {\n",
       "        vertical-align: middle;\n",
       "    }\n",
       "\n",
       "    .dataframe tbody tr th {\n",
       "        vertical-align: top;\n",
       "    }\n",
       "\n",
       "    .dataframe thead th {\n",
       "        text-align: right;\n",
       "    }\n",
       "</style>\n",
       "<table border=\"1\" class=\"dataframe\">\n",
       "  <thead>\n",
       "    <tr style=\"text-align: right;\">\n",
       "      <th></th>\n",
       "      <th>coefficients</th>\n",
       "    </tr>\n",
       "  </thead>\n",
       "  <tbody>\n",
       "    <tr>\n",
       "      <th>baseline_testPositvity</th>\n",
       "      <td>0.265513</td>\n",
       "    </tr>\n",
       "    <tr>\n",
       "      <th>testPositvity_14_dayMean</th>\n",
       "      <td>0.172119</td>\n",
       "    </tr>\n",
       "    <tr>\n",
       "      <th>test_inzsumTotal_14_dayMean</th>\n",
       "      <td>0.063858</td>\n",
       "    </tr>\n",
       "    <tr>\n",
       "      <th>retail_and_recreation_percent_change_from_baseline_14_dayMean</th>\n",
       "      <td>0.043985</td>\n",
       "    </tr>\n",
       "    <tr>\n",
       "      <th>maxNeighborIncidence_14_dayMean</th>\n",
       "      <td>0.036635</td>\n",
       "    </tr>\n",
       "    <tr>\n",
       "      <th>workplaces_percent_change_from_baseline_14_dayMean</th>\n",
       "      <td>0.021969</td>\n",
       "    </tr>\n",
       "    <tr>\n",
       "      <th>case_inz_entries_14_dayMean</th>\n",
       "      <td>0.008674</td>\n",
       "    </tr>\n",
       "    <tr>\n",
       "      <th>test_inz_entries_14_dayMean</th>\n",
       "      <td>0.007326</td>\n",
       "    </tr>\n",
       "    <tr>\n",
       "      <th>residential_percent_change_from_baseline_14_dayMean</th>\n",
       "      <td>0.002344</td>\n",
       "    </tr>\n",
       "    <tr>\n",
       "      <th>grocery_and_pharmacy_percent_change_from_baseline_14_dayMean</th>\n",
       "      <td>0.001223</td>\n",
       "    </tr>\n",
       "    <tr>\n",
       "      <th>transit_stations_percent_change_from_baseline_14_dayMean</th>\n",
       "      <td>-0.011875</td>\n",
       "    </tr>\n",
       "    <tr>\n",
       "      <th>meanNeighborIncidence_14_dayMean</th>\n",
       "      <td>-0.012833</td>\n",
       "    </tr>\n",
       "    <tr>\n",
       "      <th>case_inzsumTotal_14_dayMean</th>\n",
       "      <td>-0.067931</td>\n",
       "    </tr>\n",
       "    <tr>\n",
       "      <th>kofStrigency_14_dayMean</th>\n",
       "      <td>-0.077258</td>\n",
       "    </tr>\n",
       "    <tr>\n",
       "      <th>parks_percent_change_from_baseline_14_dayMean</th>\n",
       "      <td>-0.089597</td>\n",
       "    </tr>\n",
       "  </tbody>\n",
       "</table>\n",
       "</div>"
      ],
      "text/plain": [
       "                                                    coefficients\n",
       "baseline_testPositvity                                  0.265513\n",
       "testPositvity_14_dayMean                                0.172119\n",
       "test_inzsumTotal_14_dayMean                             0.063858\n",
       "retail_and_recreation_percent_change_from_basel...      0.043985\n",
       "maxNeighborIncidence_14_dayMean                         0.036635\n",
       "workplaces_percent_change_from_baseline_14_dayMean      0.021969\n",
       "case_inz_entries_14_dayMean                             0.008674\n",
       "test_inz_entries_14_dayMean                             0.007326\n",
       "residential_percent_change_from_baseline_14_day...      0.002344\n",
       "grocery_and_pharmacy_percent_change_from_baseli...      0.001223\n",
       "transit_stations_percent_change_from_baseline_1...     -0.011875\n",
       "meanNeighborIncidence_14_dayMean                       -0.012833\n",
       "case_inzsumTotal_14_dayMean                            -0.067931\n",
       "kofStrigency_14_dayMean                                -0.077258\n",
       "parks_percent_change_from_baseline_14_dayMean          -0.089597"
      ]
     },
     "metadata": {},
     "output_type": "display_data"
    },
    {
     "data": {
      "text/plain": [
       "Ridge(alpha=100)"
      ]
     },
     "metadata": {},
     "output_type": "display_data"
    },
    {
     "data": {
      "text/plain": [
       "'Baseline RMSE validation set 1: 0.014392503751041912'"
      ]
     },
     "metadata": {},
     "output_type": "display_data"
    },
    {
     "data": {
      "text/plain": [
       "'Model RMSE validation set 1: 0.11789911592093562'"
      ]
     },
     "metadata": {},
     "output_type": "display_data"
    },
    {
     "data": {
      "text/plain": [
       "'Baseline RMSE validation set 2: 0.045367066627572394'"
      ]
     },
     "metadata": {},
     "output_type": "display_data"
    },
    {
     "data": {
      "text/plain": [
       "'Model RMSE validation set 2: 0.051834341712037026'"
      ]
     },
     "metadata": {},
     "output_type": "display_data"
    },
    {
     "data": {
      "text/html": [
       "<div>\n",
       "<style scoped>\n",
       "    .dataframe tbody tr th:only-of-type {\n",
       "        vertical-align: middle;\n",
       "    }\n",
       "\n",
       "    .dataframe tbody tr th {\n",
       "        vertical-align: top;\n",
       "    }\n",
       "\n",
       "    .dataframe thead th {\n",
       "        text-align: right;\n",
       "    }\n",
       "</style>\n",
       "<table border=\"1\" class=\"dataframe\">\n",
       "  <thead>\n",
       "    <tr style=\"text-align: right;\">\n",
       "      <th></th>\n",
       "      <th>coefficients</th>\n",
       "    </tr>\n",
       "  </thead>\n",
       "  <tbody>\n",
       "    <tr>\n",
       "      <th>baseline_testPositvity</th>\n",
       "      <td>0.149259</td>\n",
       "    </tr>\n",
       "    <tr>\n",
       "      <th>testPositvity_14_dayMean</th>\n",
       "      <td>0.147922</td>\n",
       "    </tr>\n",
       "    <tr>\n",
       "      <th>case_inz_entries_14_dayMean</th>\n",
       "      <td>0.044915</td>\n",
       "    </tr>\n",
       "    <tr>\n",
       "      <th>maxNeighborIncidence_14_dayMean</th>\n",
       "      <td>0.041900</td>\n",
       "    </tr>\n",
       "    <tr>\n",
       "      <th>meanNeighborIncidence_14_dayMean</th>\n",
       "      <td>0.034246</td>\n",
       "    </tr>\n",
       "    <tr>\n",
       "      <th>retail_and_recreation_percent_change_from_baseline_14_dayMean</th>\n",
       "      <td>0.030279</td>\n",
       "    </tr>\n",
       "    <tr>\n",
       "      <th>workplaces_percent_change_from_baseline_14_dayMean</th>\n",
       "      <td>0.027629</td>\n",
       "    </tr>\n",
       "    <tr>\n",
       "      <th>test_inz_entries_14_dayMean</th>\n",
       "      <td>0.015146</td>\n",
       "    </tr>\n",
       "    <tr>\n",
       "      <th>test_inzsumTotal_14_dayMean</th>\n",
       "      <td>0.011798</td>\n",
       "    </tr>\n",
       "    <tr>\n",
       "      <th>residential_percent_change_from_baseline_14_dayMean</th>\n",
       "      <td>0.000540</td>\n",
       "    </tr>\n",
       "    <tr>\n",
       "      <th>grocery_and_pharmacy_percent_change_from_baseline_14_dayMean</th>\n",
       "      <td>-0.007043</td>\n",
       "    </tr>\n",
       "    <tr>\n",
       "      <th>transit_stations_percent_change_from_baseline_14_dayMean</th>\n",
       "      <td>-0.010155</td>\n",
       "    </tr>\n",
       "    <tr>\n",
       "      <th>case_inzsumTotal_14_dayMean</th>\n",
       "      <td>-0.024123</td>\n",
       "    </tr>\n",
       "    <tr>\n",
       "      <th>kofStrigency_14_dayMean</th>\n",
       "      <td>-0.066963</td>\n",
       "    </tr>\n",
       "    <tr>\n",
       "      <th>parks_percent_change_from_baseline_14_dayMean</th>\n",
       "      <td>-0.068939</td>\n",
       "    </tr>\n",
       "  </tbody>\n",
       "</table>\n",
       "</div>"
      ],
      "text/plain": [
       "                                                    coefficients\n",
       "baseline_testPositvity                                  0.149259\n",
       "testPositvity_14_dayMean                                0.147922\n",
       "case_inz_entries_14_dayMean                             0.044915\n",
       "maxNeighborIncidence_14_dayMean                         0.041900\n",
       "meanNeighborIncidence_14_dayMean                        0.034246\n",
       "retail_and_recreation_percent_change_from_basel...      0.030279\n",
       "workplaces_percent_change_from_baseline_14_dayMean      0.027629\n",
       "test_inz_entries_14_dayMean                             0.015146\n",
       "test_inzsumTotal_14_dayMean                             0.011798\n",
       "residential_percent_change_from_baseline_14_day...      0.000540\n",
       "grocery_and_pharmacy_percent_change_from_baseli...     -0.007043\n",
       "transit_stations_percent_change_from_baseline_1...     -0.010155\n",
       "case_inzsumTotal_14_dayMean                            -0.024123\n",
       "kofStrigency_14_dayMean                                -0.066963\n",
       "parks_percent_change_from_baseline_14_dayMean          -0.068939"
      ]
     },
     "metadata": {},
     "output_type": "display_data"
    },
    {
     "data": {
      "text/plain": [
       "Ridge(alpha=1000)"
      ]
     },
     "metadata": {},
     "output_type": "display_data"
    },
    {
     "data": {
      "text/plain": [
       "'Baseline RMSE validation set 1: 0.014392503751041912'"
      ]
     },
     "metadata": {},
     "output_type": "display_data"
    },
    {
     "data": {
      "text/plain": [
       "'Model RMSE validation set 1: 0.08225167211027296'"
      ]
     },
     "metadata": {},
     "output_type": "display_data"
    },
    {
     "data": {
      "text/plain": [
       "'Baseline RMSE validation set 2: 0.045367066627572394'"
      ]
     },
     "metadata": {},
     "output_type": "display_data"
    },
    {
     "data": {
      "text/plain": [
       "'Model RMSE validation set 2: 0.058472909635758775'"
      ]
     },
     "metadata": {},
     "output_type": "display_data"
    },
    {
     "data": {
      "text/html": [
       "<div>\n",
       "<style scoped>\n",
       "    .dataframe tbody tr th:only-of-type {\n",
       "        vertical-align: middle;\n",
       "    }\n",
       "\n",
       "    .dataframe tbody tr th {\n",
       "        vertical-align: top;\n",
       "    }\n",
       "\n",
       "    .dataframe thead th {\n",
       "        text-align: right;\n",
       "    }\n",
       "</style>\n",
       "<table border=\"1\" class=\"dataframe\">\n",
       "  <thead>\n",
       "    <tr style=\"text-align: right;\">\n",
       "      <th></th>\n",
       "      <th>coefficients</th>\n",
       "    </tr>\n",
       "  </thead>\n",
       "  <tbody>\n",
       "    <tr>\n",
       "      <th>testPositvity_14_dayMean</th>\n",
       "      <td>0.056033</td>\n",
       "    </tr>\n",
       "    <tr>\n",
       "      <th>baseline_testPositvity</th>\n",
       "      <td>0.049478</td>\n",
       "    </tr>\n",
       "    <tr>\n",
       "      <th>maxNeighborIncidence_14_dayMean</th>\n",
       "      <td>0.032872</td>\n",
       "    </tr>\n",
       "    <tr>\n",
       "      <th>meanNeighborIncidence_14_dayMean</th>\n",
       "      <td>0.031686</td>\n",
       "    </tr>\n",
       "    <tr>\n",
       "      <th>case_inz_entries_14_dayMean</th>\n",
       "      <td>0.030114</td>\n",
       "    </tr>\n",
       "    <tr>\n",
       "      <th>test_inz_entries_14_dayMean</th>\n",
       "      <td>0.015034</td>\n",
       "    </tr>\n",
       "    <tr>\n",
       "      <th>workplaces_percent_change_from_baseline_14_dayMean</th>\n",
       "      <td>0.014467</td>\n",
       "    </tr>\n",
       "    <tr>\n",
       "      <th>retail_and_recreation_percent_change_from_baseline_14_dayMean</th>\n",
       "      <td>0.011589</td>\n",
       "    </tr>\n",
       "    <tr>\n",
       "      <th>test_inzsumTotal_14_dayMean</th>\n",
       "      <td>0.011373</td>\n",
       "    </tr>\n",
       "    <tr>\n",
       "      <th>case_inzsumTotal_14_dayMean</th>\n",
       "      <td>0.005831</td>\n",
       "    </tr>\n",
       "    <tr>\n",
       "      <th>residential_percent_change_from_baseline_14_dayMean</th>\n",
       "      <td>-0.001963</td>\n",
       "    </tr>\n",
       "    <tr>\n",
       "      <th>grocery_and_pharmacy_percent_change_from_baseline_14_dayMean</th>\n",
       "      <td>-0.002334</td>\n",
       "    </tr>\n",
       "    <tr>\n",
       "      <th>transit_stations_percent_change_from_baseline_14_dayMean</th>\n",
       "      <td>-0.003236</td>\n",
       "    </tr>\n",
       "    <tr>\n",
       "      <th>kofStrigency_14_dayMean</th>\n",
       "      <td>-0.019092</td>\n",
       "    </tr>\n",
       "    <tr>\n",
       "      <th>parks_percent_change_from_baseline_14_dayMean</th>\n",
       "      <td>-0.025651</td>\n",
       "    </tr>\n",
       "  </tbody>\n",
       "</table>\n",
       "</div>"
      ],
      "text/plain": [
       "                                                    coefficients\n",
       "testPositvity_14_dayMean                                0.056033\n",
       "baseline_testPositvity                                  0.049478\n",
       "maxNeighborIncidence_14_dayMean                         0.032872\n",
       "meanNeighborIncidence_14_dayMean                        0.031686\n",
       "case_inz_entries_14_dayMean                             0.030114\n",
       "test_inz_entries_14_dayMean                             0.015034\n",
       "workplaces_percent_change_from_baseline_14_dayMean      0.014467\n",
       "retail_and_recreation_percent_change_from_basel...      0.011589\n",
       "test_inzsumTotal_14_dayMean                             0.011373\n",
       "case_inzsumTotal_14_dayMean                             0.005831\n",
       "residential_percent_change_from_baseline_14_day...     -0.001963\n",
       "grocery_and_pharmacy_percent_change_from_baseli...     -0.002334\n",
       "transit_stations_percent_change_from_baseline_1...     -0.003236\n",
       "kofStrigency_14_dayMean                                -0.019092\n",
       "parks_percent_change_from_baseline_14_dayMean          -0.025651"
      ]
     },
     "metadata": {},
     "output_type": "display_data"
    },
    {
     "data": {
      "text/plain": [
       "'----------End of evaluating (0.13545680046081543)----------'"
      ]
     },
     "metadata": {},
     "output_type": "display_data"
    }
   ],
   "source": [
    "start = time.time()\n",
    "\n",
    "'''\n",
    "featuresSelection = ['baseline_workplaces_percent_change_from_baseline',\n",
    "                     'workplaces_percent_change_from_baseline_day_7',\n",
    "                     'workplaces_percent_change_from_baseline_day_8',\n",
    "                     'workplaces_percent_change_from_baseline_day_9',\n",
    "                     'workplaces_percent_change_from_baseline_day_10',\n",
    "                     'workplaces_percent_change_from_baseline_day_11',\n",
    "                     'workplaces_percent_change_from_baseline_day_12',\n",
    "                     'workplaces_percent_change_from_baseline_day_13']\n",
    "featuresSelection = train_features.columns\n",
    "label = 'workplaces_percent_change_from_baseline'\n",
    "'''\n",
    " \n",
    "\n",
    " \n",
    "\n",
    "featuresSelection = ['baseline_testPositvity','case_inzsumTotal_14_dayMean','test_inz_entries_14_dayMean',\n",
    "                     'test_inzsumTotal_14_dayMean','testPositvity_14_dayMean',\n",
    "                     'retail_and_recreation_percent_change_from_baseline_14_dayMean',\n",
    "                     'grocery_and_pharmacy_percent_change_from_baseline_14_dayMean',\n",
    "                     'parks_percent_change_from_baseline_14_dayMean',\n",
    "                     'transit_stations_percent_change_from_baseline_14_dayMean',\n",
    "                     'workplaces_percent_change_from_baseline_14_dayMean',\n",
    "                     'residential_percent_change_from_baseline_14_dayMean',\n",
    "                     'meanNeighborIncidence_14_dayMean',\n",
    "                     'maxNeighborIncidence_14_dayMean',\n",
    "                     'kofStrigency_14_dayMean',\n",
    "                     'case_inz_entries_14_dayMean']\n",
    "label = 'testPositvity'\n",
    "\n",
    "\n",
    "display(\"---Ridge---\"+label+\"---\")\n",
    "for alpha in [1,10,100,1000]:\n",
    "    reg = linear_model.Ridge(alpha=alpha)\n",
    "    display(reg)\n",
    "    reg.fit(pip.fit_transform(train_features[featuresSelection].values), train_labels[[label]])\n",
    "    predictions_valid1 = reg.predict(pip.fit_transform(validation1_features[featuresSelection].values))\n",
    "    predictions_valid2 = reg.predict(pip.fit_transform(validation2_features[featuresSelection].values))\n",
    "    rmse1 = np.sqrt(mean_squared_error(predictions_valid1, validation1_labels[[label]]))\n",
    "    rmse2 = np.sqrt(mean_squared_error(predictions_valid2, validation2_labels[[label]]))\n",
    "    baseline_rmse1 = np.sqrt(mean_squared_error(validation1_features[[\"baseline_\"+label]],validation1_labels[[label]]))\n",
    "    baseline_rmse2 = np.sqrt(mean_squared_error(validation2_features[[\"baseline_\"+label]],validation2_labels[[label]]))\n",
    "    display(\"Baseline RMSE validation set 1: \"+str(baseline_rmse1))\n",
    "    display(\"Model RMSE validation set 1: \"+str(rmse1))\n",
    "    display(\"Baseline RMSE validation set 2: \"+str(baseline_rmse2))\n",
    "    display(\"Model RMSE validation set 2: \"+str(rmse2))\n",
    "    display(pd.DataFrame(reg.coef_.transpose(), index=featuresSelection, columns=['coefficients']).sort_values(['coefficients'], ascending=False))   \n",
    "    \n",
    "display(\"----------End of evaluating (%s)----------\" % (time.time() - start))\n"
   ]
  },
  {
   "cell_type": "code",
   "execution_count": null,
   "id": "concrete-leone",
   "metadata": {
    "scrolled": false
   },
   "outputs": [],
   "source": []
  },
  {
   "cell_type": "code",
   "execution_count": 110,
   "id": "antique-identity",
   "metadata": {
    "scrolled": false
   },
   "outputs": [
    {
     "data": {
      "text/plain": [
       "'\\ncantonId = \\'ZH\\'\\npastOutput = pd.read_csv(\"data/outputs/\"+cantonId+\".csv\")\\n\\n\\npredDf = pd.DataFrame()\\nfor col in pastOutput.columns:\\n    p = predictors[col].predict(pip.fit_transform(pd.read_csv(\"data/newest/\"+cantonId+\".csv\")))[0]\\n    temp = pd.DataFrame([p for i in range(7)], columns=[col+\"_predictions\"])\\n    predDf = pd.concat([predDf,temp], axis=1)\\ndf = pastOutput.append(predDf, ignore_index=True)\\nfor col in pastOutput.columns:\\n    df[[col]] = df[[col]].rolling(window=7).mean()\\n    df[[col,col+\"_predictions\"]].plot(kind=\\'line\\', y=[col,col+\"_predictions\"], figsize=(20,10), xlabel=\\'days\\', ylabel=col)\\n    plt.show()\\n'"
      ]
     },
     "execution_count": 110,
     "metadata": {},
     "output_type": "execute_result"
    }
   ],
   "source": [
    "'''\n",
    "cantonId = 'ZH'\n",
    "pastOutput = pd.read_csv(\"data/outputs/\"+cantonId+\".csv\")\n",
    "\n",
    "\n",
    "predDf = pd.DataFrame()\n",
    "for col in pastOutput.columns:\n",
    "    p = predictors[col].predict(pip.fit_transform(pd.read_csv(\"data/newest/\"+cantonId+\".csv\")))[0]\n",
    "    temp = pd.DataFrame([p for i in range(7)], columns=[col+\"_predictions\"])\n",
    "    predDf = pd.concat([predDf,temp], axis=1)\n",
    "df = pastOutput.append(predDf, ignore_index=True)\n",
    "for col in pastOutput.columns:\n",
    "    df[[col]] = df[[col]].rolling(window=7).mean()\n",
    "    df[[col,col+\"_predictions\"]].plot(kind='line', y=[col,col+\"_predictions\"], figsize=(20,10), xlabel='days', ylabel=col)\n",
    "    plt.show()\n",
    "'''"
   ]
  },
  {
   "cell_type": "code",
   "execution_count": 8,
   "id": "adapted-spelling",
   "metadata": {
    "scrolled": false
   },
   "outputs": [
    {
     "data": {
      "text/plain": [
       "'---lightGBM---workplaces_percent_change_from_baseline---'"
      ]
     },
     "metadata": {},
     "output_type": "display_data"
    },
    {
     "data": {
      "text/plain": [
       "LGBMRegressor(reg_alpha=100)"
      ]
     },
     "metadata": {},
     "output_type": "display_data"
    },
    {
     "data": {
      "text/plain": [
       "'Baseline RMSE validation set 1: 4.921673003924303'"
      ]
     },
     "metadata": {},
     "output_type": "display_data"
    },
    {
     "data": {
      "text/plain": [
       "'Model RMSE validation set 1: 4.831809535529989'"
      ]
     },
     "metadata": {},
     "output_type": "display_data"
    },
    {
     "data": {
      "text/plain": [
       "'Baseline RMSE validation set 2: 10.615032028550798'"
      ]
     },
     "metadata": {},
     "output_type": "display_data"
    },
    {
     "data": {
      "text/plain": [
       "'Model RMSE validation set 2: 6.30375957313574'"
      ]
     },
     "metadata": {},
     "output_type": "display_data"
    },
    {
     "data": {
      "text/plain": [
       "<AxesSubplot:>"
      ]
     },
     "metadata": {},
     "output_type": "display_data"
    },
    {
     "data": {
      "image/png": "[encoded data removed]",
      "text/plain": [
       "<Figure size 720x360 with 1 Axes>"
      ]
     },
     "metadata": {
      "needs_background": "light"
     },
     "output_type": "display_data"
    },
    {
     "data": {
      "text/plain": [
       "'----------End of evaluating (0.3777506351470947)----------'"
      ]
     },
     "metadata": {},
     "output_type": "display_data"
    }
   ],
   "source": [
    "start = time.time()\n",
    "\n",
    "featuresSelection = ['baseline_workplaces_percent_change_from_baseline',\n",
    "                     'workplaces_percent_change_from_baseline_day_7',\n",
    "                     'workplaces_percent_change_from_baseline_day_8',\n",
    "                     'workplaces_percent_change_from_baseline_day_9',\n",
    "                     'workplaces_percent_change_from_baseline_day_10',\n",
    "                     'workplaces_percent_change_from_baseline_day_11',\n",
    "                     'workplaces_percent_change_from_baseline_day_12',\n",
    "                     'workplaces_percent_change_from_baseline_day_13',\n",
    "                     'isHoliday_14_dayMean',\n",
    "                     'retail_and_recreation_percent_change_from_baseline_14_dayMean',\n",
    "                     'grocery_and_pharmacy_percent_change_from_baseline_14_dayMean',\n",
    "                     'parks_percent_change_from_baseline_14_dayMean',\n",
    "                     'transit_stations_percent_change_from_baseline_14_dayMean',\n",
    "                     'workplaces_percent_change_from_baseline_14_dayMean',\n",
    "                     'residential_percent_change_from_baseline_14_dayMean',\n",
    "                     'intervistaMob_14_dayMean',\n",
    "                     'temp_min_14_dayMean',\n",
    "                     'temp_max_14_dayMean',\n",
    "                     'clouds_14_dayMean',\n",
    "                     'precipitation_14_dayMean']\n",
    "\n",
    "for label in ['workplaces_percent_change_from_baseline']:\n",
    "    display(\"---lightGBM---\"+label+\"---\")\n",
    "    reg = lightgbm.LGBMRegressor(n_estimators=100, reg_alpha=100)\n",
    "    display(reg)\n",
    "    reg.fit(pip.fit_transform(train_features[featuresSelection].values), train_labels[label])\n",
    "    predictions_valid1 = reg.predict(pip.fit_transform(validation1_features[featuresSelection].values))\n",
    "    predictions_valid2 = reg.predict(pip.fit_transform(validation2_features[featuresSelection].values))\n",
    "    rmse1 = np.sqrt(mean_squared_error(predictions_valid1, validation1_labels[[label]]))\n",
    "    rmse2 = np.sqrt(mean_squared_error(predictions_valid2, validation2_labels[[label]]))\n",
    "    baseline_rmse1 = np.sqrt(mean_squared_error(validation1_features[[\"baseline_\"+label]],validation1_labels[[label]]))\n",
    "    baseline_rmse2 = np.sqrt(mean_squared_error(validation2_features[[\"baseline_\"+label]],validation2_labels[[label]]))\n",
    "    display(\"Baseline RMSE validation set 1: \"+str(baseline_rmse1))\n",
    "    display(\"Model RMSE validation set 1: \"+str(rmse1))\n",
    "    display(\"Baseline RMSE validation set 2: \"+str(baseline_rmse2))\n",
    "    display(\"Model RMSE validation set 2: \"+str(rmse2))\n",
    "    df = pd.DataFrame(reg.feature_importances_, index=featuresSelection, columns=['importance']).sort_values(['importance'], ascending=False)\n",
    "    display(df[df['importance'] > 0].iloc[0:30].plot(kind='barh', y='importance', figsize=(10,5)))  \n",
    "    plt.show()\n",
    "    \n",
    "display(\"----------End of evaluating (%s)----------\" % (time.time() - start))\n"
   ]
  },
  {
   "cell_type": "code",
   "execution_count": 25,
   "id": "bibliographic-lunch",
   "metadata": {
    "scrolled": false
   },
   "outputs": [
    {
     "data": {
      "text/plain": [
       "'---XGBoost---testPositvity---'"
      ]
     },
     "metadata": {},
     "output_type": "display_data"
    },
    {
     "data": {
      "text/plain": [
       "XGBRegressor(base_score=None, booster=None, colsample_bylevel=None,\n",
       "             colsample_bynode=None, colsample_bytree=None, gamma=None,\n",
       "             gpu_id=None, importance_type='gain', interaction_constraints=None,\n",
       "             learning_rate=None, max_delta_step=None, max_depth=None,\n",
       "             min_child_weight=None, missing=nan, monotone_constraints=None,\n",
       "             n_estimators=100, n_jobs=None, num_parallel_tree=None,\n",
       "             random_state=None, reg_alpha=200, reg_lambda=None,\n",
       "             scale_pos_weight=None, subsample=None, tree_method=None,\n",
       "             validate_parameters=None, verbosity=None)"
      ]
     },
     "metadata": {},
     "output_type": "display_data"
    },
    {
     "data": {
      "text/plain": [
       "'Baseline RMSE validation set 1: 0.014392503751041912'"
      ]
     },
     "metadata": {},
     "output_type": "display_data"
    },
    {
     "data": {
      "text/plain": [
       "'Model RMSE validation set 1: 0.1626603597496403'"
      ]
     },
     "metadata": {},
     "output_type": "display_data"
    },
    {
     "data": {
      "text/plain": [
       "'Baseline RMSE validation set 2: 0.045367066627572394'"
      ]
     },
     "metadata": {},
     "output_type": "display_data"
    },
    {
     "data": {
      "text/plain": [
       "'Model RMSE validation set 2: 0.07358187753526486'"
      ]
     },
     "metadata": {},
     "output_type": "display_data"
    },
    {
     "data": {
      "text/plain": [
       "<AxesSubplot:>"
      ]
     },
     "metadata": {},
     "output_type": "display_data"
    },
    {
     "data": {
      "image/png": "[encoded data removed]",
      "text/plain": [
       "<Figure size 720x360 with 1 Axes>"
      ]
     },
     "metadata": {
      "needs_background": "light"
     },
     "output_type": "display_data"
    },
    {
     "data": {
      "text/plain": [
       "'----------End of evaluating (0.3395547866821289)----------'"
      ]
     },
     "metadata": {},
     "output_type": "display_data"
    }
   ],
   "source": [
    "start = time.time()\n",
    "'''\n",
    "featuresSelection = ['baseline_workplaces_percent_change_from_baseline',\n",
    "                     'workplaces_percent_change_from_baseline_day_7',\n",
    "                     'workplaces_percent_change_from_baseline_day_8',\n",
    "                     'workplaces_percent_change_from_baseline_day_9',\n",
    "                     'workplaces_percent_change_from_baseline_day_10',\n",
    "                     'workplaces_percent_change_from_baseline_day_11',\n",
    "                     'workplaces_percent_change_from_baseline_day_12',\n",
    "                     'workplaces_percent_change_from_baseline_day_13',\n",
    "                     'isHoliday_14_dayMean',\n",
    "                     'retail_and_recreation_percent_change_from_baseline_14_dayMean',\n",
    "                     'grocery_and_pharmacy_percent_change_from_baseline_14_dayMean',\n",
    "                     'parks_percent_change_from_baseline_14_dayMean',\n",
    "                     'transit_stations_percent_change_from_baseline_14_dayMean',\n",
    "                     'workplaces_percent_change_from_baseline_14_dayMean',\n",
    "                     'residential_percent_change_from_baseline_14_dayMean',\n",
    "                     'intervistaMob_14_dayMean',\n",
    "                     'temp_min_14_dayMean',\n",
    "                     'temp_max_14_dayMean']\n",
    "labe = 'workplaces_percent_change_from_baseline'\n",
    "'''\n",
    "featuresSelection = ['baseline_testPositvity','case_inzsumTotal_14_dayMean','test_inz_entries_14_dayMean',\n",
    "                     'test_inzsumTotal_14_dayMean','testPositvity_14_dayMean',\n",
    "                     'retail_and_recreation_percent_change_from_baseline_14_dayMean',\n",
    "                     'grocery_and_pharmacy_percent_change_from_baseline_14_dayMean',\n",
    "                     'parks_percent_change_from_baseline_14_dayMean',\n",
    "                     'transit_stations_percent_change_from_baseline_14_dayMean',\n",
    "                     'workplaces_percent_change_from_baseline_14_dayMean',\n",
    "                     'residential_percent_change_from_baseline_14_dayMean',\n",
    "                     'meanNeighborIncidence_14_dayMean',\n",
    "                     'maxNeighborIncidence_14_dayMean',\n",
    "                     'kofStrigency_14_dayMean',\n",
    "                     'case_inz_entries_14_dayMean']\n",
    "label = 'testPositvity'\n",
    "\n",
    "\n",
    "display(\"---XGBoost---\"+label+\"---\")\n",
    "reg = xgb.XGBRegressor(n_estimators=100, reg_alpha=200) #reg_lambda=10\n",
    "display(reg)\n",
    "reg.fit(pip.fit_transform(train_features[featuresSelection].values), train_labels[label])\n",
    "predictions_valid1 = reg.predict(pip.fit_transform(validation1_features[featuresSelection].values))\n",
    "predictions_valid2 = reg.predict(pip.fit_transform(validation2_features[featuresSelection].values))\n",
    "rmse1 = np.sqrt(mean_squared_error(predictions_valid1, validation1_labels[[label]]))\n",
    "rmse2 = np.sqrt(mean_squared_error(predictions_valid2, validation2_labels[[label]]))\n",
    "baseline_rmse1 = np.sqrt(mean_squared_error(validation1_features[[\"baseline_\"+label]],validation1_labels[[label]]))\n",
    "baseline_rmse2 = np.sqrt(mean_squared_error(validation2_features[[\"baseline_\"+label]],validation2_labels[[label]]))\n",
    "display(\"Baseline RMSE validation set 1: \"+str(baseline_rmse1))\n",
    "display(\"Model RMSE validation set 1: \"+str(rmse1))\n",
    "display(\"Baseline RMSE validation set 2: \"+str(baseline_rmse2))\n",
    "display(\"Model RMSE validation set 2: \"+str(rmse2))\n",
    "df = pd.DataFrame(reg.feature_importances_, index=featuresSelection, columns=['importance']).sort_values(['importance'], ascending=False)\n",
    "display(df[df['importance'] > 0].iloc[0:30].plot(kind='barh', y='importance', figsize=(10,5)))  \n",
    "plt.show()\n",
    "    \n",
    "display(\"----------End of evaluating (%s)----------\" % (time.time() - start))"
   ]
  },
  {
   "cell_type": "code",
   "execution_count": null,
   "id": "enclosed-lucas",
   "metadata": {
    "scrolled": false
   },
   "outputs": [],
   "source": []
  },
  {
   "cell_type": "code",
   "execution_count": null,
   "id": "based-competition",
   "metadata": {},
   "outputs": [],
   "source": []
  },
  {
   "cell_type": "code",
   "execution_count": 10,
   "id": "smoking-software",
   "metadata": {},
   "outputs": [
    {
     "data": {
      "text/plain": [
       "'---RandomForestRegressor---workplaces_percent_change_from_baseline---'"
      ]
     },
     "metadata": {},
     "output_type": "display_data"
    },
    {
     "data": {
      "text/plain": [
       "RandomForestRegressor()"
      ]
     },
     "metadata": {},
     "output_type": "display_data"
    },
    {
     "data": {
      "text/plain": [
       "'Baseline RMSE validation set 1: 4.921673003924303'"
      ]
     },
     "metadata": {},
     "output_type": "display_data"
    },
    {
     "data": {
      "text/plain": [
       "'Model RMSE validation set 1: 6.27216709217137'"
      ]
     },
     "metadata": {},
     "output_type": "display_data"
    },
    {
     "data": {
      "text/plain": [
       "'Baseline RMSE validation set 2: 10.615032028550798'"
      ]
     },
     "metadata": {},
     "output_type": "display_data"
    },
    {
     "data": {
      "text/plain": [
       "'Model RMSE validation set 2: 6.063895240463557'"
      ]
     },
     "metadata": {},
     "output_type": "display_data"
    },
    {
     "data": {
      "text/plain": [
       "<AxesSubplot:>"
      ]
     },
     "metadata": {},
     "output_type": "display_data"
    },
    {
     "data": {
      "image/png": "[encoded data removed]",
      "text/plain": [
       "<Figure size 720x360 with 1 Axes>"
      ]
     },
     "metadata": {
      "needs_background": "light"
     },
     "output_type": "display_data"
    },
    {
     "data": {
      "text/plain": [
       "'----------End of evaluating (6.327197313308716)----------'"
      ]
     },
     "metadata": {},
     "output_type": "display_data"
    }
   ],
   "source": [
    "start = time.time()\n",
    "\n",
    "featuresSelection = ['baseline_workplaces_percent_change_from_baseline',\n",
    "                     'workplaces_percent_change_from_baseline_day_7',\n",
    "                     'workplaces_percent_change_from_baseline_day_8',\n",
    "                     'workplaces_percent_change_from_baseline_day_9',\n",
    "                     'workplaces_percent_change_from_baseline_day_10',\n",
    "                     'workplaces_percent_change_from_baseline_day_11',\n",
    "                     'workplaces_percent_change_from_baseline_day_12',\n",
    "                     'workplaces_percent_change_from_baseline_day_13',\n",
    "                     'isHoliday_14_dayMean',\n",
    "                     'retail_and_recreation_percent_change_from_baseline_14_dayMean',\n",
    "                     'grocery_and_pharmacy_percent_change_from_baseline_14_dayMean',\n",
    "                     'parks_percent_change_from_baseline_14_dayMean',\n",
    "                     'transit_stations_percent_change_from_baseline_14_dayMean',\n",
    "                     'workplaces_percent_change_from_baseline_14_dayMean',\n",
    "                     'residential_percent_change_from_baseline_14_dayMean',\n",
    "                     'intervistaMob_14_dayMean',\n",
    "                     'temp_min_14_dayMean',\n",
    "                     'temp_max_14_dayMean']\n",
    "\n",
    "for label in ['workplaces_percent_change_from_baseline']:\n",
    "    display(\"---RandomForestRegressor---\"+label+\"---\")\n",
    "    reg = RandomForestRegressor() #reg_lambda=10\n",
    "    display(reg)\n",
    "    reg.fit(pip.fit_transform(train_features[featuresSelection].values), train_labels[label])\n",
    "    predictions_valid1 = reg.predict(pip.fit_transform(validation1_features[featuresSelection].values))\n",
    "    predictions_valid2 = reg.predict(pip.fit_transform(validation2_features[featuresSelection].values))\n",
    "    rmse1 = np.sqrt(mean_squared_error(predictions_valid1, validation1_labels[[label]]))\n",
    "    rmse2 = np.sqrt(mean_squared_error(predictions_valid2, validation2_labels[[label]]))\n",
    "    baseline_rmse1 = np.sqrt(mean_squared_error(validation1_features[[\"baseline_\"+label]],validation1_labels[[label]]))\n",
    "    baseline_rmse2 = np.sqrt(mean_squared_error(validation2_features[[\"baseline_\"+label]],validation2_labels[[label]]))\n",
    "    display(\"Baseline RMSE validation set 1: \"+str(baseline_rmse1))\n",
    "    display(\"Model RMSE validation set 1: \"+str(rmse1))\n",
    "    display(\"Baseline RMSE validation set 2: \"+str(baseline_rmse2))\n",
    "    display(\"Model RMSE validation set 2: \"+str(rmse2))\n",
    "    df = pd.DataFrame(reg.feature_importances_, index=featuresSelection, columns=['importance']).sort_values(['importance'], ascending=False)\n",
    "    display(df[df['importance'] > 0].iloc[0:30].plot(kind='barh', y='importance', figsize=(10,5)))  \n",
    "    plt.show()\n",
    "    \n",
    "display(\"----------End of evaluating (%s)----------\" % (time.time() - start))\n",
    "\n",
    "    "
   ]
  },
  {
   "cell_type": "code",
   "execution_count": 12,
   "id": "diverse-nigeria",
   "metadata": {},
   "outputs": [
    {
     "data": {
      "text/plain": [
       "'---MLP---workplaces_percent_change_from_baseline---'"
      ]
     },
     "metadata": {},
     "output_type": "display_data"
    },
    {
     "data": {
      "text/plain": [
       "MLPRegressor(alpha=10, hidden_layer_sizes=(10, 10), max_iter=1000)"
      ]
     },
     "metadata": {},
     "output_type": "display_data"
    },
    {
     "data": {
      "text/plain": [
       "'Baseline RMSE validation set 1: 4.921673003924303'"
      ]
     },
     "metadata": {},
     "output_type": "display_data"
    },
    {
     "data": {
      "text/plain": [
       "'Model RMSE validation set 1: 4.421124985897147'"
      ]
     },
     "metadata": {},
     "output_type": "display_data"
    },
    {
     "data": {
      "text/plain": [
       "'Baseline RMSE validation set 2: 10.615032028550798'"
      ]
     },
     "metadata": {},
     "output_type": "display_data"
    },
    {
     "data": {
      "text/plain": [
       "'Model RMSE validation set 2: 8.33817141893823'"
      ]
     },
     "metadata": {},
     "output_type": "display_data"
    },
    {
     "data": {
      "text/plain": [
       "'----------End of evaluating (9.725636720657349)----------'"
      ]
     },
     "metadata": {},
     "output_type": "display_data"
    }
   ],
   "source": [
    "start = time.time()\n",
    "\n",
    "featuresSelection = ['baseline_workplaces_percent_change_from_baseline',\n",
    "                     'workplaces_percent_change_from_baseline_day_11',\n",
    "                     'workplaces_percent_change_from_baseline_day_12',\n",
    "                     'workplaces_percent_change_from_baseline_day_13',\n",
    "                     'workplaces_percent_change_from_baseline_14_dayMean']\n",
    "\n",
    "for label in ['workplaces_percent_change_from_baseline']:\n",
    "    display(\"---MLP---\"+label+\"---\")\n",
    "    reg = MLPRegressor(hidden_layer_sizes=(10,10), alpha=10, max_iter=1000) # , max_iter=1000\n",
    "    display(reg)\n",
    "    reg.fit(pip.fit_transform(train_features[featuresSelection].values), train_labels[label])\n",
    "    predictions_valid1 = reg.predict(pip.fit_transform(validation1_features[featuresSelection].values))\n",
    "    predictions_valid2 = reg.predict(pip.fit_transform(validation2_features[featuresSelection].values))\n",
    "    rmse1 = np.sqrt(mean_squared_error(predictions_valid1, validation1_labels[[label]]))\n",
    "    rmse2 = np.sqrt(mean_squared_error(predictions_valid2, validation2_labels[[label]]))\n",
    "    baseline_rmse1 = np.sqrt(mean_squared_error(validation1_features[[\"baseline_\"+label]],validation1_labels[[label]]))\n",
    "    baseline_rmse2 = np.sqrt(mean_squared_error(validation2_features[[\"baseline_\"+label]],validation2_labels[[label]]))\n",
    "    display(\"Baseline RMSE validation set 1: \"+str(baseline_rmse1))\n",
    "    display(\"Model RMSE validation set 1: \"+str(rmse1))\n",
    "    display(\"Baseline RMSE validation set 2: \"+str(baseline_rmse2))\n",
    "    display(\"Model RMSE validation set 2: \"+str(rmse2))\n",
    "    \n",
    "display(\"----------End of evaluating (%s)----------\" % (time.time() - start))"
   ]
  },
  {
   "cell_type": "code",
   "execution_count": 14,
   "id": "improving-execution",
   "metadata": {},
   "outputs": [
    {
     "data": {
      "text/plain": [
       "'---SVR---workplaces_percent_change_from_baseline---'"
      ]
     },
     "metadata": {},
     "output_type": "display_data"
    },
    {
     "data": {
      "text/plain": [
       "SVR()"
      ]
     },
     "metadata": {},
     "output_type": "display_data"
    },
    {
     "data": {
      "text/plain": [
       "'Baseline RMSE validation set 1: 4.921673003924303'"
      ]
     },
     "metadata": {},
     "output_type": "display_data"
    },
    {
     "data": {
      "text/plain": [
       "'Model RMSE validation set 1: 4.59207388711593'"
      ]
     },
     "metadata": {},
     "output_type": "display_data"
    },
    {
     "data": {
      "text/plain": [
       "'Baseline RMSE validation set 2: 10.615032028550798'"
      ]
     },
     "metadata": {},
     "output_type": "display_data"
    },
    {
     "data": {
      "text/plain": [
       "'Model RMSE validation set 2: 6.485336426979015'"
      ]
     },
     "metadata": {},
     "output_type": "display_data"
    },
    {
     "data": {
      "text/plain": [
       "'----------End of evaluating (2.6166269779205322)----------'"
      ]
     },
     "metadata": {},
     "output_type": "display_data"
    }
   ],
   "source": [
    "start = time.time()\n",
    "\n",
    "featuresSelection = ['baseline_workplaces_percent_change_from_baseline',\n",
    "                     'workplaces_percent_change_from_baseline_day_7',\n",
    "                     'workplaces_percent_change_from_baseline_day_8',\n",
    "                     'workplaces_percent_change_from_baseline_day_9',\n",
    "                     'workplaces_percent_change_from_baseline_day_10',\n",
    "                     'workplaces_percent_change_from_baseline_day_11',\n",
    "                     'workplaces_percent_change_from_baseline_day_12',\n",
    "                     'workplaces_percent_change_from_baseline_day_13',\n",
    "                     'isHoliday_14_dayMean',\n",
    "                     'retail_and_recreation_percent_change_from_baseline_14_dayMean',\n",
    "                     'grocery_and_pharmacy_percent_change_from_baseline_14_dayMean',\n",
    "                     'parks_percent_change_from_baseline_14_dayMean',\n",
    "                     'transit_stations_percent_change_from_baseline_14_dayMean',\n",
    "                     'workplaces_percent_change_from_baseline_14_dayMean',\n",
    "                     'residential_percent_change_from_baseline_14_dayMean',\n",
    "                     'intervistaMob_14_dayMean',\n",
    "                     'temp_min_14_dayMean',\n",
    "                     'temp_max_14_dayMean']\n",
    "\n",
    "for label in ['workplaces_percent_change_from_baseline']:\n",
    "    display(\"---SVR---\"+label+\"---\")\n",
    "    reg = svm.SVR() #reg_lambda=10\n",
    "    display(reg)\n",
    "    reg.fit(pip.fit_transform(train_features[featuresSelection].values), train_labels[label])\n",
    "    predictions_valid1 = reg.predict(pip.fit_transform(validation1_features[featuresSelection].values))\n",
    "    predictions_valid2 = reg.predict(pip.fit_transform(validation2_features[featuresSelection].values))\n",
    "    rmse1 = np.sqrt(mean_squared_error(predictions_valid1, validation1_labels[[label]]))\n",
    "    rmse2 = np.sqrt(mean_squared_error(predictions_valid2, validation2_labels[[label]]))\n",
    "    baseline_rmse1 = np.sqrt(mean_squared_error(validation1_features[[\"baseline_\"+label]],validation1_labels[[label]]))\n",
    "    baseline_rmse2 = np.sqrt(mean_squared_error(validation2_features[[\"baseline_\"+label]],validation2_labels[[label]]))\n",
    "    display(\"Baseline RMSE validation set 1: \"+str(baseline_rmse1))\n",
    "    display(\"Model RMSE validation set 1: \"+str(rmse1))\n",
    "    display(\"Baseline RMSE validation set 2: \"+str(baseline_rmse2))\n",
    "    display(\"Model RMSE validation set 2: \"+str(rmse2))\n",
    "    \n",
    "display(\"----------End of evaluating (%s)----------\" % (time.time() - start))\n"
   ]
  },
  {
   "cell_type": "code",
   "execution_count": null,
   "id": "concerned-differential",
   "metadata": {},
   "outputs": [],
   "source": []
  }
 ],
 "metadata": {
  "kernelspec": {
   "display_name": "Python 3",
   "language": "python",
   "name": "python3"
  },
  "language_info": {
   "codemirror_mode": {
    "name": "ipython",
    "version": 3
   },
   "file_extension": ".py",
   "mimetype": "text/x-python",
   "name": "python",
   "nbconvert_exporter": "python",
   "pygments_lexer": "ipython3",
   "version": "3.9.2"
  }
 },
 "nbformat": 4,
 "nbformat_minor": 5
}
